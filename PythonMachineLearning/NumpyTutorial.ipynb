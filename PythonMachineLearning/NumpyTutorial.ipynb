{
 "cells": [
  {
   "cell_type": "code",
   "execution_count": 1,
   "metadata": {
    "collapsed": false,
    "nbpresent": {
     "id": "05418130-f772-4465-9c1f-175808c4e2ee"
    }
   },
   "outputs": [],
   "source": [
    "from numpy import *\n",
    "a = arange(15).reshape(3,5)\n"
   ]
  },
  {
   "cell_type": "code",
   "execution_count": 3,
   "metadata": {
    "collapsed": true,
    "nbpresent": {
     "id": "3e57cebd-ed4f-4583-a4d1-215a4b5bb98f"
    }
   },
   "outputs": [],
   "source": [
    "a = arange(15)"
   ]
  },
  {
   "cell_type": "code",
   "execution_count": 4,
   "metadata": {
    "collapsed": false,
    "nbpresent": {
     "id": "222a2f7f-745c-49f3-a50d-ae3c6f14592f"
    }
   },
   "outputs": [
    {
     "data": {
      "text/plain": [
       "array([ 0,  1,  2,  3,  4,  5,  6,  7,  8,  9, 10, 11, 12, 13, 14])"
      ]
     },
     "execution_count": 4,
     "metadata": {},
     "output_type": "execute_result"
    }
   ],
   "source": [
    "a"
   ]
  },
  {
   "cell_type": "code",
   "execution_count": 6,
   "metadata": {
    "collapsed": false,
    "nbpresent": {
     "id": "e7be8576-12ed-4aaf-b311-24060897aa63"
    }
   },
   "outputs": [
    {
     "data": {
      "text/plain": [
       "array([ 0,  1,  2,  3,  4,  5,  6,  7,  8,  9, 10, 11, 12, 13, 14])"
      ]
     },
     "execution_count": 6,
     "metadata": {},
     "output_type": "execute_result"
    }
   ],
   "source": [
    "a.reshape(3,5)\n",
    "a"
   ]
  },
  {
   "cell_type": "markdown",
   "metadata": {
    "nbpresent": {
     "id": "69ff4323-a267-4d79-9ab3-40c54e6812f2"
    }
   },
   "source": [
    "arange(15)生成0~14的连续的数据,一维的. reshape(m,n),将a转换成m*n大小的"
   ]
  },
  {
   "cell_type": "code",
   "execution_count": 8,
   "metadata": {
    "collapsed": false,
    "nbpresent": {
     "id": "c29e485e-e435-456b-932d-fc99b22b68fd"
    }
   },
   "outputs": [
    {
     "data": {
      "text/plain": [
       "2"
      ]
     },
     "execution_count": 8,
     "metadata": {},
     "output_type": "execute_result"
    }
   ],
   "source": [
    "a.ndim"
   ]
  },
  {
   "cell_type": "code",
   "execution_count": 9,
   "metadata": {
    "collapsed": false,
    "nbpresent": {
     "id": "9991219a-a26e-47a2-a7f3-d8871d0fe716"
    }
   },
   "outputs": [
    {
     "data": {
      "text/plain": [
       "(3, 5)"
      ]
     },
     "execution_count": 9,
     "metadata": {},
     "output_type": "execute_result"
    }
   ],
   "source": [
    "a.shape"
   ]
  },
  {
   "cell_type": "code",
   "execution_count": 10,
   "metadata": {
    "collapsed": false,
    "nbpresent": {
     "id": "cfe2699c-80f6-4b76-82bc-50ad8e061548"
    }
   },
   "outputs": [
    {
     "data": {
      "text/plain": [
       "15"
      ]
     },
     "execution_count": 10,
     "metadata": {},
     "output_type": "execute_result"
    }
   ],
   "source": [
    "a.size"
   ]
  },
  {
   "cell_type": "code",
   "execution_count": 11,
   "metadata": {
    "collapsed": false,
    "nbpresent": {
     "id": "1a46dd6e-432c-448e-9a95-210abc040d67"
    }
   },
   "outputs": [
    {
     "data": {
      "text/plain": [
       "dtype('int64')"
      ]
     },
     "execution_count": 11,
     "metadata": {},
     "output_type": "execute_result"
    }
   ],
   "source": [
    "a.dtype"
   ]
  },
  {
   "cell_type": "code",
   "execution_count": 13,
   "metadata": {
    "collapsed": false,
    "nbpresent": {
     "id": "9c162f33-ff72-4883-bcac-f8374571b5d5"
    }
   },
   "outputs": [
    {
     "data": {
      "text/plain": [
       "'int64'"
      ]
     },
     "execution_count": 13,
     "metadata": {},
     "output_type": "execute_result"
    }
   ],
   "source": [
    "a.dtype.name"
   ]
  },
  {
   "cell_type": "code",
   "execution_count": 14,
   "metadata": {
    "collapsed": false,
    "nbpresent": {
     "id": "160e4b5e-affb-4a78-bbe2-2b6fe1021904"
    }
   },
   "outputs": [
    {
     "data": {
      "text/plain": [
       "8"
      ]
     },
     "execution_count": 14,
     "metadata": {},
     "output_type": "execute_result"
    }
   ],
   "source": [
    "a.itemsize"
   ]
  },
  {
   "cell_type": "markdown",
   "metadata": {
    "nbpresent": {
     "id": "6e7c2aa0-23a3-4a2e-86ff-7314419d9c13"
    }
   },
   "source": [
    "itemsize表示元素的大小,单位是字节byte"
   ]
  },
  {
   "cell_type": "code",
   "execution_count": 15,
   "metadata": {
    "collapsed": false,
    "nbpresent": {
     "id": "78ee0406-f3dd-426e-aa5b-76c5b48d12aa"
    }
   },
   "outputs": [
    {
     "data": {
      "text/plain": [
       "numpy.ndarray"
      ]
     },
     "execution_count": 15,
     "metadata": {},
     "output_type": "execute_result"
    }
   ],
   "source": [
    "type(a)"
   ]
  },
  {
   "cell_type": "code",
   "execution_count": 16,
   "metadata": {
    "collapsed": false,
    "nbpresent": {
     "id": "f78d9f4c-ae01-4eef-ac0d-9cf019a20dc5"
    }
   },
   "outputs": [
    {
     "data": {
      "text/plain": [
       "numpy.ndarray"
      ]
     },
     "execution_count": 16,
     "metadata": {},
     "output_type": "execute_result"
    }
   ],
   "source": [
    "b = array([6,7,8])\n",
    "b\n",
    "type(b)"
   ]
  },
  {
   "cell_type": "markdown",
   "metadata": {
    "nbpresent": {
     "id": "c3e177f3-31bc-4cd1-9d47-0273f5ab3969"
    }
   },
   "source": [
    "使用array来构造ndarray数据,参数是python的List类型"
   ]
  },
  {
   "cell_type": "code",
   "execution_count": 17,
   "metadata": {
    "collapsed": true,
    "nbpresent": {
     "id": "373116e4-be71-44e3-b0d0-bf2abffab0f8"
    }
   },
   "outputs": [],
   "source": [
    "c = array([4.6,1.0,3])"
   ]
  },
  {
   "cell_type": "code",
   "execution_count": 18,
   "metadata": {
    "collapsed": false,
    "nbpresent": {
     "id": "8a492688-5c7c-42c0-abf8-b7fc3908ca73"
    }
   },
   "outputs": [
    {
     "data": {
      "text/plain": [
       "'int64'"
      ]
     },
     "execution_count": 18,
     "metadata": {},
     "output_type": "execute_result"
    }
   ],
   "source": [
    "b.dtype.name"
   ]
  },
  {
   "cell_type": "code",
   "execution_count": 19,
   "metadata": {
    "collapsed": false,
    "nbpresent": {
     "id": "ebe197de-3591-48a4-aa63-4b6705a8fa35"
    }
   },
   "outputs": [
    {
     "data": {
      "text/plain": [
       "'float64'"
      ]
     },
     "execution_count": 19,
     "metadata": {},
     "output_type": "execute_result"
    }
   ],
   "source": [
    "c.dtype.name"
   ]
  },
  {
   "cell_type": "code",
   "execution_count": 20,
   "metadata": {
    "collapsed": false,
    "nbpresent": {
     "id": "9d91b37e-9d25-44cc-aa5a-a5ae76cb749e"
    }
   },
   "outputs": [
    {
     "ename": "ValueError",
     "evalue": "only 2 non-keyword arguments accepted",
     "output_type": "error",
     "traceback": [
      "\u001b[0;31m---------------------------------------------------------------------------\u001b[0m",
      "\u001b[0;31mValueError\u001b[0m                                Traceback (most recent call last)",
      "\u001b[0;32m<ipython-input-20-57c2f8d6387a>\u001b[0m in \u001b[0;36m<module>\u001b[0;34m()\u001b[0m\n\u001b[0;32m----> 1\u001b[0;31m \u001b[0ma\u001b[0m \u001b[0;34m=\u001b[0m \u001b[0marray\u001b[0m\u001b[0;34m(\u001b[0m\u001b[0;36m1\u001b[0m\u001b[0;34m,\u001b[0m\u001b[0;36m2\u001b[0m\u001b[0;34m,\u001b[0m\u001b[0;36m3\u001b[0m\u001b[0;34m,\u001b[0m\u001b[0;36m4\u001b[0m\u001b[0;34m)\u001b[0m\u001b[0;34m\u001b[0m\u001b[0m\n\u001b[0m",
      "\u001b[0;31mValueError\u001b[0m: only 2 non-keyword arguments accepted"
     ]
    }
   ],
   "source": [
    "a = array(1,2,3,4)"
   ]
  },
  {
   "cell_type": "markdown",
   "metadata": {
    "nbpresent": {
     "id": "c36183d7-1c2a-45dc-a99f-94004625884e"
    }
   },
   "source": [
    "array接收的是个list,不能直接用array(1,2,3)来构造数据."
   ]
  },
  {
   "cell_type": "code",
   "execution_count": 21,
   "metadata": {
    "collapsed": false,
    "nbpresent": {
     "id": "bfd6c1b4-2e5e-454e-994e-c5d1313a49c6"
    }
   },
   "outputs": [
    {
     "data": {
      "text/plain": [
       "array([[1, 2, 3],\n",
       "       [4, 5, 6]])"
      ]
     },
     "execution_count": 21,
     "metadata": {},
     "output_type": "execute_result"
    }
   ],
   "source": [
    "a = array([(1,2,3),(4,5,6)])\n",
    "a"
   ]
  },
  {
   "cell_type": "code",
   "execution_count": 22,
   "metadata": {
    "collapsed": false,
    "nbpresent": {
     "id": "17fba5e6-ef78-4cb0-a1f2-9981441e49c0"
    }
   },
   "outputs": [
    {
     "ename": "TypeError",
     "evalue": "'builtin_function_or_method' object is not subscriptable",
     "output_type": "error",
     "traceback": [
      "\u001b[0;31m---------------------------------------------------------------------------\u001b[0m",
      "\u001b[0;31mTypeError\u001b[0m                                 Traceback (most recent call last)",
      "\u001b[0;32m<ipython-input-22-41eb9ec3be89>\u001b[0m in \u001b[0;36m<module>\u001b[0;34m()\u001b[0m\n\u001b[0;32m----> 1\u001b[0;31m \u001b[0ma\u001b[0m \u001b[0;34m=\u001b[0m \u001b[0marray\u001b[0m\u001b[0;34m[\u001b[0m\u001b[0;34m(\u001b[0m\u001b[0;36m1\u001b[0m\u001b[0;34m,\u001b[0m\u001b[0;36m2\u001b[0m\u001b[0;34m,\u001b[0m\u001b[0;36m3\u001b[0m\u001b[0;34m)\u001b[0m\u001b[0;34m,\u001b[0m\u001b[0;34m(\u001b[0m\u001b[0;36m3\u001b[0m\u001b[0;34m,\u001b[0m\u001b[0;36m4\u001b[0m\u001b[0;34m)\u001b[0m\u001b[0;34m]\u001b[0m\u001b[0;34m\u001b[0m\u001b[0m\n\u001b[0m\u001b[1;32m      2\u001b[0m \u001b[0ma\u001b[0m\u001b[0;34m\u001b[0m\u001b[0m\n",
      "\u001b[0;31mTypeError\u001b[0m: 'builtin_function_or_method' object is not subscriptable"
     ]
    }
   ],
   "source": [
    "a = array[(1,2,3),(3,4)]\n",
    "a"
   ]
  },
  {
   "cell_type": "code",
   "execution_count": 23,
   "metadata": {
    "collapsed": true,
    "nbpresent": {
     "id": "64f6c28b-f737-4650-bbf2-e953ac2974f0"
    }
   },
   "outputs": [],
   "source": [
    "a = array([[1,2,3],[4,5]])"
   ]
  },
  {
   "cell_type": "code",
   "execution_count": 24,
   "metadata": {
    "collapsed": false,
    "nbpresent": {
     "id": "30b2bf87-cdde-4f7d-a46e-bddb07abaa5b"
    }
   },
   "outputs": [
    {
     "data": {
      "text/plain": [
       "array([[1, 2, 3], [4, 5]], dtype=object)"
      ]
     },
     "execution_count": 24,
     "metadata": {},
     "output_type": "execute_result"
    }
   ],
   "source": [
    "a"
   ]
  },
  {
   "cell_type": "code",
   "execution_count": 25,
   "metadata": {
    "collapsed": true,
    "nbpresent": {
     "id": "a9cc341a-2b6e-40f0-a03f-30ccfeea9595"
    }
   },
   "outputs": [],
   "source": [
    "a = array([1.45,1.65,5.6],dtype = int64)"
   ]
  },
  {
   "cell_type": "code",
   "execution_count": 26,
   "metadata": {
    "collapsed": false,
    "nbpresent": {
     "id": "7b000239-2032-4db8-a8d2-b733644335c4"
    }
   },
   "outputs": [
    {
     "data": {
      "text/plain": [
       "array([1, 1, 5])"
      ]
     },
     "execution_count": 26,
     "metadata": {},
     "output_type": "execute_result"
    }
   ],
   "source": [
    "a"
   ]
  },
  {
   "cell_type": "code",
   "execution_count": 27,
   "metadata": {
    "collapsed": true,
    "nbpresent": {
     "id": "0bd8ed2f-a92e-4a8e-8823-4cedc7252c8b"
    }
   },
   "outputs": [],
   "source": [
    "a = array([(1.45,1.65,5.6)],dtype = int64)"
   ]
  },
  {
   "cell_type": "code",
   "execution_count": 28,
   "metadata": {
    "collapsed": false,
    "nbpresent": {
     "id": "e01f2ad1-ef12-48bd-9802-29157ccb8f1c"
    }
   },
   "outputs": [
    {
     "data": {
      "text/plain": [
       "array([[1, 1, 5]])"
      ]
     },
     "execution_count": 28,
     "metadata": {},
     "output_type": "execute_result"
    }
   ],
   "source": [
    "a"
   ]
  },
  {
   "cell_type": "code",
   "execution_count": 29,
   "metadata": {
    "collapsed": false,
    "nbpresent": {
     "id": "4e25870d-de0a-4656-8f42-ee32b2e50e78"
    }
   },
   "outputs": [
    {
     "data": {
      "text/plain": [
       "2"
      ]
     },
     "execution_count": 29,
     "metadata": {},
     "output_type": "execute_result"
    }
   ],
   "source": [
    "a = array([[1,2,3],[4,5]])\n",
    "a.size"
   ]
  },
  {
   "cell_type": "code",
   "execution_count": 30,
   "metadata": {
    "collapsed": false,
    "nbpresent": {
     "id": "04a28242-800a-4e5e-93e9-1b1dd30408c9"
    }
   },
   "outputs": [
    {
     "data": {
      "text/plain": [
       "(2,)"
      ]
     },
     "execution_count": 30,
     "metadata": {},
     "output_type": "execute_result"
    }
   ],
   "source": [
    "a.shape"
   ]
  },
  {
   "cell_type": "code",
   "execution_count": 32,
   "metadata": {
    "collapsed": true,
    "nbpresent": {
     "id": "93197a1e-0a97-4bdb-8932-132dc23545fe"
    }
   },
   "outputs": [],
   "source": [
    "a = array([[1,2,3],[4,5,6]])"
   ]
  },
  {
   "cell_type": "code",
   "execution_count": 33,
   "metadata": {
    "collapsed": false,
    "nbpresent": {
     "id": "2fe9dae5-1311-4dbc-9c88-0796bc4440b8"
    }
   },
   "outputs": [
    {
     "data": {
      "text/plain": [
       "(2, 3)"
      ]
     },
     "execution_count": 33,
     "metadata": {},
     "output_type": "execute_result"
    }
   ],
   "source": [
    "a.shape"
   ]
  },
  {
   "cell_type": "code",
   "execution_count": 34,
   "metadata": {
    "collapsed": false,
    "nbpresent": {
     "id": "0633983e-5c02-4c3f-93b1-6364d6ac70bb"
    }
   },
   "outputs": [
    {
     "data": {
      "text/plain": [
       "6"
      ]
     },
     "execution_count": 34,
     "metadata": {},
     "output_type": "execute_result"
    }
   ],
   "source": [
    "a.size"
   ]
  },
  {
   "cell_type": "code",
   "execution_count": 35,
   "metadata": {
    "collapsed": true,
    "nbpresent": {
     "id": "00fb7bb6-7f22-4be1-940f-d3e63baae739"
    }
   },
   "outputs": [],
   "source": [
    "a = array([[1,2,3]])"
   ]
  },
  {
   "cell_type": "code",
   "execution_count": 36,
   "metadata": {
    "collapsed": false,
    "nbpresent": {
     "id": "d0199272-40b6-4645-9ac2-94de3296e293"
    }
   },
   "outputs": [
    {
     "data": {
      "text/plain": [
       "(1, 3)"
      ]
     },
     "execution_count": 36,
     "metadata": {},
     "output_type": "execute_result"
    }
   ],
   "source": [
    "a.shape"
   ]
  },
  {
   "cell_type": "code",
   "execution_count": 37,
   "metadata": {
    "collapsed": false,
    "nbpresent": {
     "id": "a1b7de92-8755-43df-aa3f-c337a2891a20"
    }
   },
   "outputs": [
    {
     "data": {
      "text/plain": [
       "(2, 3)"
      ]
     },
     "execution_count": 37,
     "metadata": {},
     "output_type": "execute_result"
    }
   ],
   "source": [
    "a = array([(1,2,3),(4,5,6)])\n",
    "a.shape"
   ]
  },
  {
   "cell_type": "code",
   "execution_count": 38,
   "metadata": {
    "collapsed": false,
    "nbpresent": {
     "id": "cc195184-9b04-4b17-bd36-c66df30f0439"
    }
   },
   "outputs": [
    {
     "data": {
      "text/plain": [
       "(1, 3)"
      ]
     },
     "execution_count": 38,
     "metadata": {},
     "output_type": "execute_result"
    }
   ],
   "source": [
    "a = array([(1,2,3)])\n",
    "a.shape"
   ]
  },
  {
   "cell_type": "code",
   "execution_count": 39,
   "metadata": {
    "collapsed": false,
    "nbpresent": {
     "id": "da79c721-c090-4b63-8fce-1851c07eb72c"
    }
   },
   "outputs": [
    {
     "data": {
      "text/plain": [
       "array([[1, 2, 3]])"
      ]
     },
     "execution_count": 39,
     "metadata": {},
     "output_type": "execute_result"
    }
   ],
   "source": [
    "a"
   ]
  },
  {
   "cell_type": "markdown",
   "metadata": {
    "nbpresent": {
     "id": "a2c14f53-3905-4f33-863e-083a0755aa34"
    }
   },
   "source": [
    "//array接收的是list,而list的元素可以是多个list,也可以是tuple"
   ]
  },
  {
   "cell_type": "code",
   "execution_count": 41,
   "metadata": {
    "collapsed": false,
    "nbpresent": {
     "id": "8596c6a3-ac65-4d64-8499-73dc2e05544f"
    }
   },
   "outputs": [
    {
     "data": {
      "text/plain": [
       "array([[ 0.,  0.,  0.,  0.],\n",
       "       [ 0.,  0.,  0.,  0.],\n",
       "       [ 0.,  0.,  0.,  0.]])"
      ]
     },
     "execution_count": 41,
     "metadata": {},
     "output_type": "execute_result"
    }
   ],
   "source": [
    "zeros((3,4))"
   ]
  },
  {
   "cell_type": "code",
   "execution_count": 42,
   "metadata": {
    "collapsed": false,
    "nbpresent": {
     "id": "72aea633-83ae-4578-8eb8-8a6dbef548d0"
    }
   },
   "outputs": [
    {
     "data": {
      "text/plain": [
       "array([[[1, 1, 1, 1],\n",
       "        [1, 1, 1, 1],\n",
       "        [1, 1, 1, 1]],\n",
       "\n",
       "       [[1, 1, 1, 1],\n",
       "        [1, 1, 1, 1],\n",
       "        [1, 1, 1, 1]]], dtype=int16)"
      ]
     },
     "execution_count": 42,
     "metadata": {},
     "output_type": "execute_result"
    }
   ],
   "source": [
    "ones((2,3,4),dtype=int16)"
   ]
  },
  {
   "cell_type": "code",
   "execution_count": 46,
   "metadata": {
    "collapsed": false,
    "nbpresent": {
     "id": "023ba5e0-5b81-44cd-9c59-7c941a7b363e"
    }
   },
   "outputs": [
    {
     "data": {
      "text/plain": [
       "array([[ 0.,  0.,  0.],\n",
       "       [ 0.,  0.,  0.]])"
      ]
     },
     "execution_count": 46,
     "metadata": {},
     "output_type": "execute_result"
    }
   ],
   "source": [
    "empty((2,3))"
   ]
  },
  {
   "cell_type": "code",
   "execution_count": 48,
   "metadata": {
    "collapsed": false,
    "nbpresent": {
     "id": "74f1413c-12ac-4775-9979-e8bdea9b941f"
    }
   },
   "outputs": [
    {
     "data": {
      "text/plain": [
       "array([[ 0.,  0.,  0.],\n",
       "       [ 0.,  0.,  0.]])"
      ]
     },
     "execution_count": 48,
     "metadata": {},
     "output_type": "execute_result"
    }
   ],
   "source": [
    "empty([2,3])"
   ]
  },
  {
   "cell_type": "markdown",
   "metadata": {
    "nbpresent": {
     "id": "8160b477-06d8-47d7-95f8-8fecddd96d67"
    }
   },
   "source": [
    "empty和zeros不一样,empty只是初始化给定大小的数组,但是并不会把元素指定为0,需要用户手动设置"
   ]
  },
  {
   "cell_type": "code",
   "execution_count": 50,
   "metadata": {
    "collapsed": false,
    "nbpresent": {
     "id": "54af231d-3756-4631-a6a7-1b21cf0afef1"
    }
   },
   "outputs": [
    {
     "data": {
      "text/plain": [
       "array([10, 15, 20, 25])"
      ]
     },
     "execution_count": 50,
     "metadata": {},
     "output_type": "execute_result"
    }
   ],
   "source": [
    "arange(10,30,5)"
   ]
  },
  {
   "cell_type": "markdown",
   "metadata": {
    "nbpresent": {
     "id": "b40e495e-7d24-4829-a509-427cbf98319c"
    }
   },
   "source": [
    "10~30的数据,间隔为5"
   ]
  },
  {
   "cell_type": "code",
   "execution_count": 51,
   "metadata": {
    "collapsed": false,
    "nbpresent": {
     "id": "8b40636c-43eb-4c3e-b504-5750db2085a4"
    }
   },
   "outputs": [
    {
     "data": {
      "text/plain": [
       "array([ 0.  ,  0.25,  0.5 ,  0.75,  1.  ,  1.25,  1.5 ,  1.75,  2.  ])"
      ]
     },
     "execution_count": 51,
     "metadata": {},
     "output_type": "execute_result"
    }
   ],
   "source": [
    "linspace(0,2,9)"
   ]
  },
  {
   "cell_type": "markdown",
   "metadata": {
    "nbpresent": {
     "id": "609c21d1-4ecd-4a1b-8375-d9357abc0a8c"
    }
   },
   "source": [
    "0~2中9个数"
   ]
  },
  {
   "cell_type": "code",
   "execution_count": 52,
   "metadata": {
    "collapsed": false,
    "nbpresent": {
     "id": "6ec2515e-6d37-46ee-bd44-50441af770d5"
    }
   },
   "outputs": [
    {
     "ename": "SyntaxError",
     "evalue": "Missing parentheses in call to 'print' (<ipython-input-52-cb7bf6b39d0e>, line 2)",
     "output_type": "error",
     "traceback": [
      "\u001b[0;36m  File \u001b[0;32m\"<ipython-input-52-cb7bf6b39d0e>\"\u001b[0;36m, line \u001b[0;32m2\u001b[0m\n\u001b[0;31m    print a\u001b[0m\n\u001b[0m          ^\u001b[0m\n\u001b[0;31mSyntaxError\u001b[0m\u001b[0;31m:\u001b[0m Missing parentheses in call to 'print'\n"
     ]
    }
   ],
   "source": [
    "a = linspace(0,2,9)\n",
    "print a"
   ]
  },
  {
   "cell_type": "code",
   "execution_count": 53,
   "metadata": {
    "collapsed": false,
    "nbpresent": {
     "id": "1bd7f934-48c9-4cf2-9073-e3fb3ac59bbf"
    }
   },
   "outputs": [
    {
     "name": "stdout",
     "output_type": "stream",
     "text": [
      "[[1 2 3]]\n"
     ]
    }
   ],
   "source": [
    "print (a)"
   ]
  },
  {
   "cell_type": "code",
   "execution_count": 54,
   "metadata": {
    "collapsed": false,
    "nbpresent": {
     "id": "98de114a-9e24-43de-8631-70b9be085b10"
    }
   },
   "outputs": [
    {
     "data": {
      "text/plain": [
       "array([[1, 2, 3]])"
      ]
     },
     "execution_count": 54,
     "metadata": {},
     "output_type": "execute_result"
    }
   ],
   "source": [
    "a"
   ]
  },
  {
   "cell_type": "code",
   "execution_count": 56,
   "metadata": {
    "collapsed": true,
    "nbpresent": {
     "id": "a9b8eea3-c6b6-4557-ba09-63fa90fec687"
    }
   },
   "outputs": [],
   "source": [
    "a = linspace(0,2,10)"
   ]
  },
  {
   "cell_type": "code",
   "execution_count": 58,
   "metadata": {
    "collapsed": false,
    "nbpresent": {
     "id": "7500c8ce-88bb-4a69-8782-c97b59ee4541"
    }
   },
   "outputs": [
    {
     "data": {
      "text/plain": [
       "array([ 0.        ,  0.22222222,  0.44444444,  0.66666667,  0.88888889,\n",
       "        1.11111111,  1.33333333,  1.55555556,  1.77777778,  2.        ])"
      ]
     },
     "execution_count": 58,
     "metadata": {},
     "output_type": "execute_result"
    }
   ],
   "source": [
    "a"
   ]
  },
  {
   "cell_type": "code",
   "execution_count": 59,
   "metadata": {
    "collapsed": false,
    "nbpresent": {
     "id": "78e7a820-1fe3-4b0d-8792-0e6623705fda"
    }
   },
   "outputs": [
    {
     "ename": "SyntaxError",
     "evalue": "Missing parentheses in call to 'print' (<ipython-input-59-9d7b17ad5387>, line 1)",
     "output_type": "error",
     "traceback": [
      "\u001b[0;36m  File \u001b[0;32m\"<ipython-input-59-9d7b17ad5387>\"\u001b[0;36m, line \u001b[0;32m1\u001b[0m\n\u001b[0;31m    print a\u001b[0m\n\u001b[0m          ^\u001b[0m\n\u001b[0;31mSyntaxError\u001b[0m\u001b[0;31m:\u001b[0m Missing parentheses in call to 'print'\n"
     ]
    }
   ],
   "source": [
    "print a"
   ]
  },
  {
   "cell_type": "code",
   "execution_count": 60,
   "metadata": {
    "collapsed": false,
    "nbpresent": {
     "id": "b5f9ada3-c087-440c-bc2a-01f14968a5e0"
    }
   },
   "outputs": [
    {
     "name": "stdout",
     "output_type": "stream",
     "text": [
      "[ 0.          0.22222222  0.44444444  0.66666667  0.88888889  1.11111111\n",
      "  1.33333333  1.55555556  1.77777778  2.        ]\n"
     ]
    }
   ],
   "source": [
    "print (a)"
   ]
  },
  {
   "cell_type": "code",
   "execution_count": 63,
   "metadata": {
    "collapsed": false,
    "nbpresent": {
     "id": "390e5a16-c521-4447-a20d-06927867e431"
    }
   },
   "outputs": [
    {
     "name": "stdout",
     "output_type": "stream",
     "text": [
      "[   0    1    2 ..., 9997 9998 9999]\n"
     ]
    }
   ],
   "source": [
    "print (arange(10000))"
   ]
  },
  {
   "cell_type": "code",
   "execution_count": 64,
   "metadata": {
    "collapsed": false,
    "nbpresent": {
     "id": "ae0b1d33-b44e-49dd-a705-d404aa24a607"
    }
   },
   "outputs": [
    {
     "name": "stdout",
     "output_type": "stream",
     "text": [
      "[[   0    1    2 ...,   97   98   99]\n",
      " [ 100  101  102 ...,  197  198  199]\n",
      " [ 200  201  202 ...,  297  298  299]\n",
      " ..., \n",
      " [9700 9701 9702 ..., 9797 9798 9799]\n",
      " [9800 9801 9802 ..., 9897 9898 9899]\n",
      " [9900 9901 9902 ..., 9997 9998 9999]]\n"
     ]
    }
   ],
   "source": [
    "print (arange(10000).reshape(100,100))"
   ]
  },
  {
   "cell_type": "code",
   "execution_count": 69,
   "metadata": {
    "collapsed": true,
    "nbpresent": {
     "id": "05d1ebfe-0183-4e67-ab67-066e574a58e4"
    }
   },
   "outputs": [],
   "source": [
    "set_printoptions(threshold=10)"
   ]
  },
  {
   "cell_type": "code",
   "execution_count": 70,
   "metadata": {
    "collapsed": false,
    "nbpresent": {
     "id": "54750490-fe25-4377-8354-b5ac4ec3dd41"
    }
   },
   "outputs": [
    {
     "name": "stdout",
     "output_type": "stream",
     "text": [
      "[0 1 2 3 4 5 6 7 8 9]\n"
     ]
    }
   ],
   "source": [
    "print (arange(10))"
   ]
  },
  {
   "cell_type": "code",
   "execution_count": 71,
   "metadata": {
    "collapsed": false,
    "nbpresent": {
     "id": "601afcde-92c0-4b75-89b6-40ac9d35c386"
    }
   },
   "outputs": [
    {
     "name": "stdout",
     "output_type": "stream",
     "text": [
      "[1 1 1 1]\n"
     ]
    }
   ],
   "source": [
    "a = array([1,2,3,4])\n",
    "b = arange(4)\n",
    "c = a-b\n",
    "print (c)"
   ]
  },
  {
   "cell_type": "code",
   "execution_count": 73,
   "metadata": {
    "collapsed": false,
    "nbpresent": {
     "id": "1b4197fa-52a5-4f48-83b1-c6cb96d84a1a"
    }
   },
   "outputs": [
    {
     "name": "stdout",
     "output_type": "stream",
     "text": [
      "[ 8.41470985  9.09297427  1.41120008 -7.56802495]\n"
     ]
    }
   ],
   "source": [
    "print (10*sin(a))"
   ]
  },
  {
   "cell_type": "code",
   "execution_count": 76,
   "metadata": {
    "collapsed": false,
    "nbpresent": {
     "id": "8d5a0d7a-370d-4d19-b3f6-45729191abad"
    },
    "scrolled": true
   },
   "outputs": [
    {
     "name": "stdout",
     "output_type": "stream",
     "text": [
      "[[2 2]\n",
      " [2 2]]\n",
      "[[1 1]\n",
      " [1 1]]\n"
     ]
    }
   ],
   "source": [
    "a = array([[1,1],[1,1]])\n",
    "b = a\n",
    "c = a.dot(b)\n",
    "d = a*b\n",
    "print (c)\n",
    "print (d)"
   ]
  },
  {
   "cell_type": "code",
   "execution_count": 77,
   "metadata": {
    "collapsed": false,
    "nbpresent": {
     "id": "3d178f95-07d4-44f5-a378-f0c1b454096a"
    }
   },
   "outputs": [
    {
     "name": "stdout",
     "output_type": "stream",
     "text": [
      "[[2 2]\n",
      " [2 2]]\n"
     ]
    }
   ],
   "source": [
    "b += a\n",
    "print (b)"
   ]
  },
  {
   "cell_type": "code",
   "execution_count": 78,
   "metadata": {
    "collapsed": false,
    "nbpresent": {
     "id": "20eb7120-1802-46cc-ae4a-83ba714f9a51"
    }
   },
   "outputs": [
    {
     "data": {
      "text/plain": [
       "array([4, 4])"
      ]
     },
     "execution_count": 78,
     "metadata": {},
     "output_type": "execute_result"
    }
   ],
   "source": [
    "b.sum(axis=0)"
   ]
  },
  {
   "cell_type": "code",
   "execution_count": 79,
   "metadata": {
    "collapsed": false
   },
   "outputs": [
    {
     "data": {
      "text/plain": [
       "array([4, 4])"
      ]
     },
     "execution_count": 79,
     "metadata": {},
     "output_type": "execute_result"
    }
   ],
   "source": [
    "b.sum(axis=1)"
   ]
  },
  {
   "cell_type": "code",
   "execution_count": 93,
   "metadata": {
    "collapsed": false
   },
   "outputs": [],
   "source": [
    "b = array([(3,2),(1,4)])"
   ]
  },
  {
   "cell_type": "code",
   "execution_count": 94,
   "metadata": {
    "collapsed": false
   },
   "outputs": [
    {
     "data": {
      "text/plain": [
       "array([4, 6])"
      ]
     },
     "execution_count": 94,
     "metadata": {},
     "output_type": "execute_result"
    }
   ],
   "source": [
    "b.sum(axis=0)"
   ]
  },
  {
   "cell_type": "code",
   "execution_count": 95,
   "metadata": {
    "collapsed": false
   },
   "outputs": [
    {
     "data": {
      "text/plain": [
       "array([5, 5])"
      ]
     },
     "execution_count": 95,
     "metadata": {},
     "output_type": "execute_result"
    }
   ],
   "source": [
    "b.sum(axis=1)"
   ]
  },
  {
   "cell_type": "code",
   "execution_count": 96,
   "metadata": {
    "collapsed": false
   },
   "outputs": [
    {
     "data": {
      "text/plain": [
       "array([1, 2])"
      ]
     },
     "execution_count": 96,
     "metadata": {},
     "output_type": "execute_result"
    }
   ],
   "source": [
    "b.min(axis=0)"
   ]
  },
  {
   "cell_type": "code",
   "execution_count": 97,
   "metadata": {
    "collapsed": false
   },
   "outputs": [
    {
     "data": {
      "text/plain": [
       "array([2, 1])"
      ]
     },
     "execution_count": 97,
     "metadata": {},
     "output_type": "execute_result"
    }
   ],
   "source": [
    "b.min(axis=1)"
   ]
  },
  {
   "cell_type": "markdown",
   "metadata": {},
   "source": [
    "Universal Functions"
   ]
  },
  {
   "cell_type": "code",
   "execution_count": 98,
   "metadata": {
    "collapsed": true
   },
   "outputs": [],
   "source": [
    "B = arange(3)"
   ]
  },
  {
   "cell_type": "code",
   "execution_count": 99,
   "metadata": {
    "collapsed": false
   },
   "outputs": [
    {
     "data": {
      "text/plain": [
       "array([ 1.        ,  2.71828183,  7.3890561 ])"
      ]
     },
     "execution_count": 99,
     "metadata": {},
     "output_type": "execute_result"
    }
   ],
   "source": [
    "exp(B)"
   ]
  },
  {
   "cell_type": "code",
   "execution_count": 100,
   "metadata": {
    "collapsed": false
   },
   "outputs": [
    {
     "data": {
      "text/plain": [
       "array([ 0.        ,  1.        ,  1.41421356])"
      ]
     },
     "execution_count": 100,
     "metadata": {},
     "output_type": "execute_result"
    }
   ],
   "source": [
    "sqrt(B)"
   ]
  },
  {
   "cell_type": "code",
   "execution_count": 101,
   "metadata": {
    "collapsed": true
   },
   "outputs": [],
   "source": [
    "C = array([2,-1,0])"
   ]
  },
  {
   "cell_type": "code",
   "execution_count": 102,
   "metadata": {
    "collapsed": false
   },
   "outputs": [
    {
     "data": {
      "text/plain": [
       "array([2, 0, 2])"
      ]
     },
     "execution_count": 102,
     "metadata": {},
     "output_type": "execute_result"
    }
   ],
   "source": [
    "add(B,C)"
   ]
  },
  {
   "cell_type": "markdown",
   "metadata": {},
   "source": [
    "**数组的索引**"
   ]
  },
  {
   "cell_type": "code",
   "execution_count": 103,
   "metadata": {
    "collapsed": true
   },
   "outputs": [],
   "source": [
    "a = arange(10)**3"
   ]
  },
  {
   "cell_type": "code",
   "execution_count": 105,
   "metadata": {
    "collapsed": false
   },
   "outputs": [
    {
     "data": {
      "text/plain": [
       "array([  0,   1,   8,  27,  64, 125, 216, 343, 512, 729])"
      ]
     },
     "execution_count": 105,
     "metadata": {},
     "output_type": "execute_result"
    }
   ],
   "source": [
    "a"
   ]
  },
  {
   "cell_type": "code",
   "execution_count": 106,
   "metadata": {
    "collapsed": false
   },
   "outputs": [
    {
     "data": {
      "text/plain": [
       "8"
      ]
     },
     "execution_count": 106,
     "metadata": {},
     "output_type": "execute_result"
    }
   ],
   "source": [
    "a[2]"
   ]
  },
  {
   "cell_type": "code",
   "execution_count": 107,
   "metadata": {
    "collapsed": false
   },
   "outputs": [
    {
     "data": {
      "text/plain": [
       "array([ 8, 27, 64])"
      ]
     },
     "execution_count": 107,
     "metadata": {},
     "output_type": "execute_result"
    }
   ],
   "source": [
    "a[2:5]"
   ]
  },
  {
   "cell_type": "code",
   "execution_count": 109,
   "metadata": {
    "collapsed": false
   },
   "outputs": [
    {
     "data": {
      "text/plain": [
       "array([  0,   1,   8,  27,  64, 125])"
      ]
     },
     "execution_count": 109,
     "metadata": {},
     "output_type": "execute_result"
    }
   ],
   "source": [
    "a[:6:1]"
   ]
  },
  {
   "cell_type": "code",
   "execution_count": 110,
   "metadata": {
    "collapsed": false
   },
   "outputs": [
    {
     "data": {
      "text/plain": [
       "array([729, 512, 343, 216, 125,  64,  27,   8,   1,   0])"
      ]
     },
     "execution_count": 110,
     "metadata": {},
     "output_type": "execute_result"
    }
   ],
   "source": [
    "a[: : -1]"
   ]
  },
  {
   "cell_type": "code",
   "execution_count": 111,
   "metadata": {
    "collapsed": false
   },
   "outputs": [
    {
     "data": {
      "text/plain": [
       "array([  0,   1,   8,  27,  64, 125, 216, 343, 512, 729])"
      ]
     },
     "execution_count": 111,
     "metadata": {},
     "output_type": "execute_result"
    }
   ],
   "source": [
    "a[: : 1]"
   ]
  },
  {
   "cell_type": "code",
   "execution_count": 112,
   "metadata": {
    "collapsed": false
   },
   "outputs": [
    {
     "data": {
      "text/plain": [
       "array([729, 512, 343])"
      ]
     },
     "execution_count": 112,
     "metadata": {},
     "output_type": "execute_result"
    }
   ],
   "source": [
    "a[:6:-1]"
   ]
  },
  {
   "cell_type": "code",
   "execution_count": 114,
   "metadata": {
    "collapsed": false
   },
   "outputs": [
    {
     "data": {
      "text/plain": [
       "array([[ 0,  1,  2,  3],\n",
       "       [10, 11, 12, 13],\n",
       "       [20, 21, 22, 23],\n",
       "       [30, 31, 32, 33],\n",
       "       [40, 41, 42, 43]])"
      ]
     },
     "execution_count": 114,
     "metadata": {},
     "output_type": "execute_result"
    }
   ],
   "source": [
    "def f(x,y):\n",
    "    return 10*x+y\n",
    "\n",
    "b = fromfunction(f,(5,4),dtype=int)\n",
    "b"
   ]
  },
  {
   "cell_type": "code",
   "execution_count": 115,
   "metadata": {
    "collapsed": false
   },
   "outputs": [
    {
     "data": {
      "text/plain": [
       "array([[[0, 0, 0, 0],\n",
       "        [1, 1, 1, 1],\n",
       "        [2, 2, 2, 2],\n",
       "        [3, 3, 3, 3],\n",
       "        [4, 4, 4, 4]],\n",
       "\n",
       "       [[0, 1, 2, 3],\n",
       "        [0, 1, 2, 3],\n",
       "        [0, 1, 2, 3],\n",
       "        [0, 1, 2, 3],\n",
       "        [0, 1, 2, 3]]], dtype=object)"
      ]
     },
     "execution_count": 115,
     "metadata": {},
     "output_type": "execute_result"
    }
   ],
   "source": [
    "indices((5,4),dtype=dtype)"
   ]
  },
  {
   "cell_type": "code",
   "execution_count": 116,
   "metadata": {
    "collapsed": false
   },
   "outputs": [
    {
     "data": {
      "text/plain": [
       "23"
      ]
     },
     "execution_count": 116,
     "metadata": {},
     "output_type": "execute_result"
    }
   ],
   "source": [
    "b[2,3]"
   ]
  },
  {
   "cell_type": "code",
   "execution_count": 117,
   "metadata": {
    "collapsed": false
   },
   "outputs": [
    {
     "data": {
      "text/plain": [
       "array([ 1, 11, 21, 31, 41])"
      ]
     },
     "execution_count": 117,
     "metadata": {},
     "output_type": "execute_result"
    }
   ],
   "source": [
    "b[0:5,1]"
   ]
  },
  {
   "cell_type": "code",
   "execution_count": 118,
   "metadata": {
    "collapsed": false
   },
   "outputs": [
    {
     "data": {
      "text/plain": [
       "array([40, 41, 42, 43])"
      ]
     },
     "execution_count": 118,
     "metadata": {},
     "output_type": "execute_result"
    }
   ],
   "source": [
    "b[-1]"
   ]
  },
  {
   "cell_type": "code",
   "execution_count": 119,
   "metadata": {
    "collapsed": false
   },
   "outputs": [
    {
     "data": {
      "text/plain": [
       "array([[ 0,  1,  2,  3],\n",
       "       [10, 11, 12, 13],\n",
       "       [20, 21, 22, 23],\n",
       "       [30, 31, 32, 33],\n",
       "       [40, 41, 42, 43]])"
      ]
     },
     "execution_count": 119,
     "metadata": {},
     "output_type": "execute_result"
    }
   ],
   "source": [
    "b[:]"
   ]
  },
  {
   "cell_type": "code",
   "execution_count": 120,
   "metadata": {
    "collapsed": false
   },
   "outputs": [
    {
     "data": {
      "text/plain": [
       "array([10, 11, 12, 13])"
      ]
     },
     "execution_count": 120,
     "metadata": {},
     "output_type": "execute_result"
    }
   ],
   "source": [
    "b[1,:]"
   ]
  },
  {
   "cell_type": "code",
   "execution_count": 121,
   "metadata": {
    "collapsed": false
   },
   "outputs": [
    {
     "data": {
      "text/plain": [
       "12"
      ]
     },
     "execution_count": 121,
     "metadata": {},
     "output_type": "execute_result"
    }
   ],
   "source": [
    "b[1,2]"
   ]
  },
  {
   "cell_type": "code",
   "execution_count": 122,
   "metadata": {
    "collapsed": true
   },
   "outputs": [],
   "source": [
    "c = arange(24).reshape(2,3,4)"
   ]
  },
  {
   "cell_type": "code",
   "execution_count": 123,
   "metadata": {
    "collapsed": false
   },
   "outputs": [
    {
     "data": {
      "text/plain": [
       "array([[[ 0,  1,  2,  3],\n",
       "        [ 4,  5,  6,  7],\n",
       "        [ 8,  9, 10, 11]],\n",
       "\n",
       "       [[12, 13, 14, 15],\n",
       "        [16, 17, 18, 19],\n",
       "        [20, 21, 22, 23]]])"
      ]
     },
     "execution_count": 123,
     "metadata": {},
     "output_type": "execute_result"
    }
   ],
   "source": [
    "c"
   ]
  },
  {
   "cell_type": "code",
   "execution_count": 124,
   "metadata": {
    "collapsed": false
   },
   "outputs": [
    {
     "data": {
      "text/plain": [
       "array([[12, 13, 14, 15],\n",
       "       [16, 17, 18, 19],\n",
       "       [20, 21, 22, 23]])"
      ]
     },
     "execution_count": 124,
     "metadata": {},
     "output_type": "execute_result"
    }
   ],
   "source": [
    "c[1]"
   ]
  },
  {
   "cell_type": "code",
   "execution_count": 125,
   "metadata": {
    "collapsed": false
   },
   "outputs": [
    {
     "data": {
      "text/plain": [
       "array([4, 5, 6, 7])"
      ]
     },
     "execution_count": 125,
     "metadata": {},
     "output_type": "execute_result"
    }
   ],
   "source": [
    "c[0,1]"
   ]
  },
  {
   "cell_type": "code",
   "execution_count": 126,
   "metadata": {
    "collapsed": false
   },
   "outputs": [
    {
     "data": {
      "text/plain": [
       "array([[ 0,  1,  2,  3],\n",
       "       [ 4,  5,  6,  7],\n",
       "       [ 8,  9, 10, 11]])"
      ]
     },
     "execution_count": 126,
     "metadata": {},
     "output_type": "execute_result"
    }
   ],
   "source": [
    "c[0,...]"
   ]
  },
  {
   "cell_type": "code",
   "execution_count": 127,
   "metadata": {
    "collapsed": false
   },
   "outputs": [
    {
     "data": {
      "text/plain": [
       "array([[[ 0,  1,  2,  3],\n",
       "        [ 4,  5,  6,  7],\n",
       "        [ 8,  9, 10, 11]],\n",
       "\n",
       "       [[12, 13, 14, 15],\n",
       "        [16, 17, 18, 19],\n",
       "        [20, 21, 22, 23]]])"
      ]
     },
     "execution_count": 127,
     "metadata": {},
     "output_type": "execute_result"
    }
   ],
   "source": [
    "c[...]"
   ]
  },
  {
   "cell_type": "code",
   "execution_count": 128,
   "metadata": {
    "collapsed": false
   },
   "outputs": [
    {
     "data": {
      "text/plain": [
       "array([[ 2,  6, 10],\n",
       "       [14, 18, 22]])"
      ]
     },
     "execution_count": 128,
     "metadata": {},
     "output_type": "execute_result"
    }
   ],
   "source": [
    "c[...,2]"
   ]
  },
  {
   "cell_type": "code",
   "execution_count": 140,
   "metadata": {
    "collapsed": false
   },
   "outputs": [],
   "source": [
    "a = floor(10*random.random((2,2)))"
   ]
  },
  {
   "cell_type": "code",
   "execution_count": 141,
   "metadata": {
    "collapsed": false
   },
   "outputs": [
    {
     "data": {
      "text/plain": [
       "array([[ 2.,  8.],\n",
       "       [ 6.,  9.]])"
      ]
     },
     "execution_count": 141,
     "metadata": {},
     "output_type": "execute_result"
    }
   ],
   "source": [
    "a"
   ]
  },
  {
   "cell_type": "code",
   "execution_count": 142,
   "metadata": {
    "collapsed": false
   },
   "outputs": [],
   "source": [
    "b = floor(10*random.random((2,2)))"
   ]
  },
  {
   "cell_type": "code",
   "execution_count": 143,
   "metadata": {
    "collapsed": false
   },
   "outputs": [
    {
     "data": {
      "text/plain": [
       "array([[ 7.,  9.],\n",
       "       [ 1.,  0.]])"
      ]
     },
     "execution_count": 143,
     "metadata": {},
     "output_type": "execute_result"
    }
   ],
   "source": [
    "b"
   ]
  },
  {
   "cell_type": "code",
   "execution_count": 144,
   "metadata": {
    "collapsed": false
   },
   "outputs": [
    {
     "data": {
      "text/plain": [
       "array([[ 2.,  8.],\n",
       "       [ 6.,  9.],\n",
       "       [ 7.,  9.],\n",
       "       [ 1.,  0.]])"
      ]
     },
     "execution_count": 144,
     "metadata": {},
     "output_type": "execute_result"
    }
   ],
   "source": [
    "vstack((a,b))"
   ]
  },
  {
   "cell_type": "code",
   "execution_count": 145,
   "metadata": {
    "collapsed": false
   },
   "outputs": [
    {
     "data": {
      "text/plain": [
       "array([[ 2.,  8.,  7.,  9.],\n",
       "       [ 6.,  9.,  1.,  0.]])"
      ]
     },
     "execution_count": 145,
     "metadata": {},
     "output_type": "execute_result"
    }
   ],
   "source": [
    "hstack((a,b))"
   ]
  },
  {
   "cell_type": "code",
   "execution_count": 146,
   "metadata": {
    "collapsed": false
   },
   "outputs": [
    {
     "data": {
      "text/plain": [
       "array([[ 2.,  8.],\n",
       "       [ 6.,  9.]])"
      ]
     },
     "execution_count": 146,
     "metadata": {},
     "output_type": "execute_result"
    }
   ],
   "source": [
    "a"
   ]
  },
  {
   "cell_type": "code",
   "execution_count": 147,
   "metadata": {
    "collapsed": true
   },
   "outputs": [],
   "source": [
    "c = a.view()"
   ]
  },
  {
   "cell_type": "code",
   "execution_count": 148,
   "metadata": {
    "collapsed": false
   },
   "outputs": [
    {
     "data": {
      "text/plain": [
       "False"
      ]
     },
     "execution_count": 148,
     "metadata": {},
     "output_type": "execute_result"
    }
   ],
   "source": [
    "c is a"
   ]
  },
  {
   "cell_type": "code",
   "execution_count": 149,
   "metadata": {
    "collapsed": false
   },
   "outputs": [
    {
     "data": {
      "text/plain": [
       "True"
      ]
     },
     "execution_count": 149,
     "metadata": {},
     "output_type": "execute_result"
    }
   ],
   "source": [
    "c.base is a"
   ]
  },
  {
   "cell_type": "code",
   "execution_count": 150,
   "metadata": {
    "collapsed": false
   },
   "outputs": [
    {
     "data": {
      "text/plain": [
       "False"
      ]
     },
     "execution_count": 150,
     "metadata": {},
     "output_type": "execute_result"
    }
   ],
   "source": [
    "c.flags.owndata"
   ]
  },
  {
   "cell_type": "code",
   "execution_count": 151,
   "metadata": {
    "collapsed": false
   },
   "outputs": [
    {
     "data": {
      "text/plain": [
       "(2, 2)"
      ]
     },
     "execution_count": 151,
     "metadata": {},
     "output_type": "execute_result"
    }
   ],
   "source": [
    "c.shape"
   ]
  },
  {
   "cell_type": "code",
   "execution_count": 152,
   "metadata": {
    "collapsed": false
   },
   "outputs": [
    {
     "data": {
      "text/plain": [
       "(2, 2)"
      ]
     },
     "execution_count": 152,
     "metadata": {},
     "output_type": "execute_result"
    }
   ],
   "source": [
    "a.shape"
   ]
  },
  {
   "cell_type": "code",
   "execution_count": 153,
   "metadata": {
    "collapsed": true
   },
   "outputs": [],
   "source": [
    "a = arange(12).reshape(3,4)"
   ]
  },
  {
   "cell_type": "code",
   "execution_count": 154,
   "metadata": {
    "collapsed": false
   },
   "outputs": [
    {
     "data": {
      "text/plain": [
       "array([[ 0,  1,  2,  3],\n",
       "       [ 4,  5,  6,  7],\n",
       "       [ 8,  9, 10, 11]])"
      ]
     },
     "execution_count": 154,
     "metadata": {},
     "output_type": "execute_result"
    }
   ],
   "source": [
    "a"
   ]
  },
  {
   "cell_type": "code",
   "execution_count": 161,
   "metadata": {
    "collapsed": true
   },
   "outputs": [],
   "source": [
    "c = a.view()"
   ]
  },
  {
   "cell_type": "code",
   "execution_count": 162,
   "metadata": {
    "collapsed": false
   },
   "outputs": [
    {
     "data": {
      "text/plain": [
       "(3, 4)"
      ]
     },
     "execution_count": 162,
     "metadata": {},
     "output_type": "execute_result"
    }
   ],
   "source": [
    "c.shape"
   ]
  },
  {
   "cell_type": "code",
   "execution_count": 163,
   "metadata": {
    "collapsed": false
   },
   "outputs": [
    {
     "data": {
      "text/plain": [
       "array([[ 0,  1,  2,  3],\n",
       "       [ 4,  5,  6,  7],\n",
       "       [ 8,  9, 10, 11]])"
      ]
     },
     "execution_count": 163,
     "metadata": {},
     "output_type": "execute_result"
    }
   ],
   "source": [
    "c"
   ]
  },
  {
   "cell_type": "code",
   "execution_count": 164,
   "metadata": {
    "collapsed": true
   },
   "outputs": [],
   "source": [
    "c.shape = 2,6"
   ]
  },
  {
   "cell_type": "code",
   "execution_count": 165,
   "metadata": {
    "collapsed": false
   },
   "outputs": [
    {
     "data": {
      "text/plain": [
       "array([[ 0,  1,  2,  3,  4,  5],\n",
       "       [ 6,  7,  8,  9, 10, 11]])"
      ]
     },
     "execution_count": 165,
     "metadata": {},
     "output_type": "execute_result"
    }
   ],
   "source": [
    "c"
   ]
  },
  {
   "cell_type": "code",
   "execution_count": 166,
   "metadata": {
    "collapsed": false
   },
   "outputs": [
    {
     "data": {
      "text/plain": [
       "(3, 4)"
      ]
     },
     "execution_count": 166,
     "metadata": {},
     "output_type": "execute_result"
    }
   ],
   "source": [
    "a.shape"
   ]
  },
  {
   "cell_type": "code",
   "execution_count": 167,
   "metadata": {
    "collapsed": true
   },
   "outputs": [],
   "source": [
    "d = a"
   ]
  },
  {
   "cell_type": "code",
   "execution_count": 168,
   "metadata": {
    "collapsed": false
   },
   "outputs": [
    {
     "data": {
      "text/plain": [
       "array([[ 0,  1,  2,  3],\n",
       "       [ 4,  5,  6,  7],\n",
       "       [ 8,  9, 10, 11]])"
      ]
     },
     "execution_count": 168,
     "metadata": {},
     "output_type": "execute_result"
    }
   ],
   "source": [
    "d"
   ]
  },
  {
   "cell_type": "code",
   "execution_count": 169,
   "metadata": {
    "collapsed": true
   },
   "outputs": [],
   "source": [
    "d[2,3] = 1234"
   ]
  },
  {
   "cell_type": "code",
   "execution_count": 170,
   "metadata": {
    "collapsed": false
   },
   "outputs": [
    {
     "data": {
      "text/plain": [
       "1234"
      ]
     },
     "execution_count": 170,
     "metadata": {},
     "output_type": "execute_result"
    }
   ],
   "source": [
    "a[2,3]"
   ]
  },
  {
   "cell_type": "code",
   "execution_count": 171,
   "metadata": {
    "collapsed": false
   },
   "outputs": [
    {
     "data": {
      "text/plain": [
       "array([[   0,    1,    2,    3],\n",
       "       [   4,    5,    6,    7],\n",
       "       [   8,    9,   10, 1234]])"
      ]
     },
     "execution_count": 171,
     "metadata": {},
     "output_type": "execute_result"
    }
   ],
   "source": [
    "d[:]"
   ]
  },
  {
   "cell_type": "code",
   "execution_count": 172,
   "metadata": {
    "collapsed": false
   },
   "outputs": [
    {
     "data": {
      "text/plain": [
       "array([[   0,    1,    2,    3],\n",
       "       [   4,    5,    6,    7],\n",
       "       [   8,    9,   10, 1234]])"
      ]
     },
     "execution_count": 172,
     "metadata": {},
     "output_type": "execute_result"
    }
   ],
   "source": [
    "a"
   ]
  },
  {
   "cell_type": "code",
   "execution_count": 173,
   "metadata": {
    "collapsed": true
   },
   "outputs": [],
   "source": [
    "e = a.copy()"
   ]
  },
  {
   "cell_type": "code",
   "execution_count": 174,
   "metadata": {
    "collapsed": false
   },
   "outputs": [
    {
     "data": {
      "text/plain": [
       "array([[   0,    1,    2,    3],\n",
       "       [   4,    5,    6,    7],\n",
       "       [   8,    9,   10, 1234]])"
      ]
     },
     "execution_count": 174,
     "metadata": {},
     "output_type": "execute_result"
    }
   ],
   "source": [
    "e"
   ]
  },
  {
   "cell_type": "code",
   "execution_count": 175,
   "metadata": {
    "collapsed": true
   },
   "outputs": [],
   "source": [
    "e[2,3] = 4321"
   ]
  },
  {
   "cell_type": "code",
   "execution_count": 176,
   "metadata": {
    "collapsed": false
   },
   "outputs": [
    {
     "data": {
      "text/plain": [
       "1234"
      ]
     },
     "execution_count": 176,
     "metadata": {},
     "output_type": "execute_result"
    }
   ],
   "source": [
    "a[2,3]"
   ]
  },
  {
   "cell_type": "code",
   "execution_count": 177,
   "metadata": {
    "collapsed": false
   },
   "outputs": [
    {
     "data": {
      "text/plain": [
       "4321"
      ]
     },
     "execution_count": 177,
     "metadata": {},
     "output_type": "execute_result"
    }
   ],
   "source": [
    "e[2,3]"
   ]
  },
  {
   "cell_type": "code",
   "execution_count": 178,
   "metadata": {
    "collapsed": false
   },
   "outputs": [
    {
     "data": {
      "text/plain": [
       "array([[   0,    1,    2,    3],\n",
       "       [   4,    5,    6,    7],\n",
       "       [   8,    9,   10, 1234]])"
      ]
     },
     "execution_count": 178,
     "metadata": {},
     "output_type": "execute_result"
    }
   ],
   "source": [
    "a"
   ]
  },
  {
   "cell_type": "code",
   "execution_count": 179,
   "metadata": {
    "collapsed": false
   },
   "outputs": [
    {
     "data": {
      "text/plain": [
       "array([[   0,    1,    2,    3],\n",
       "       [   4,    5,    6,    7],\n",
       "       [   8,    9,   10, 4321]])"
      ]
     },
     "execution_count": 179,
     "metadata": {},
     "output_type": "execute_result"
    }
   ],
   "source": [
    "e"
   ]
  },
  {
   "cell_type": "code",
   "execution_count": 182,
   "metadata": {
    "collapsed": true
   },
   "outputs": [],
   "source": [
    "i = array([[0,1],[1,2]])\n",
    "j = array([[2,3],[1,3]])"
   ]
  },
  {
   "cell_type": "code",
   "execution_count": 183,
   "metadata": {
    "collapsed": false
   },
   "outputs": [
    {
     "data": {
      "text/plain": [
       "array([[   2,    7],\n",
       "       [   5, 1234]])"
      ]
     },
     "execution_count": 183,
     "metadata": {},
     "output_type": "execute_result"
    }
   ],
   "source": [
    "a[i,j]"
   ]
  },
  {
   "cell_type": "code",
   "execution_count": 184,
   "metadata": {
    "collapsed": false
   },
   "outputs": [
    {
     "data": {
      "text/plain": [
       "1"
      ]
     },
     "execution_count": 184,
     "metadata": {},
     "output_type": "execute_result"
    }
   ],
   "source": [
    "a[0,1]"
   ]
  },
  {
   "cell_type": "markdown",
   "metadata": {},
   "source": [
    "a[i,j],从i中取第一个下标,从j中取第二维的下标"
   ]
  },
  {
   "cell_type": "code",
   "execution_count": 186,
   "metadata": {
    "collapsed": false
   },
   "outputs": [
    {
     "data": {
      "text/plain": [
       "array([[[   0,    1,    2,    3],\n",
       "        [   4,    5,    6,    7]],\n",
       "\n",
       "       [[   4,    5,    6,    7],\n",
       "        [   8,    9,   10, 1234]]])"
      ]
     },
     "execution_count": 186,
     "metadata": {},
     "output_type": "execute_result"
    }
   ],
   "source": [
    "x = array([[0,1],[1,2]])\n",
    "a[x]"
   ]
  },
  {
   "cell_type": "code",
   "execution_count": 187,
   "metadata": {
    "collapsed": false
   },
   "outputs": [
    {
     "data": {
      "text/plain": [
       "array([[   2,    7],\n",
       "       [   5, 1234]])"
      ]
     },
     "execution_count": 187,
     "metadata": {},
     "output_type": "execute_result"
    }
   ],
   "source": [
    "a[[i,j]]"
   ]
  },
  {
   "cell_type": "code",
   "execution_count": 188,
   "metadata": {
    "collapsed": false
   },
   "outputs": [
    {
     "data": {
      "text/plain": [
       "array([[[   2,    7],\n",
       "        [   5, 1234]]])"
      ]
     },
     "execution_count": 188,
     "metadata": {},
     "output_type": "execute_result"
    }
   ],
   "source": [
    "a[[i],[j]]"
   ]
  },
  {
   "cell_type": "code",
   "execution_count": 192,
   "metadata": {
    "collapsed": false
   },
   "outputs": [
    {
     "data": {
      "text/plain": [
       "array([[[[   0,    1,    2,    3],\n",
       "         [   4,    5,    6,    7]],\n",
       "\n",
       "        [[   4,    5,    6,    7],\n",
       "         [   8,    9,   10, 1234]]],\n",
       "\n",
       "\n",
       "       [[[   4,    5,    6,    7],\n",
       "         [   8,    9,   10, 1234]],\n",
       "\n",
       "        [[   8,    9,   10, 1234],\n",
       "         [   4,    5,    6,    7]]]])"
      ]
     },
     "execution_count": 192,
     "metadata": {},
     "output_type": "execute_result"
    }
   ],
   "source": [
    "x = array([[[0,1],[1,2]],[[1,2],[2,1]]])\n",
    "a[x]"
   ]
  },
  {
   "cell_type": "code",
   "execution_count": 193,
   "metadata": {
    "collapsed": true
   },
   "outputs": [],
   "source": [
    "x1 = [[1,2],[0,1]]\n",
    "x2 = array(x1)"
   ]
  },
  {
   "cell_type": "code",
   "execution_count": 194,
   "metadata": {
    "collapsed": false
   },
   "outputs": [
    {
     "data": {
      "text/plain": [
       "list"
      ]
     },
     "execution_count": 194,
     "metadata": {},
     "output_type": "execute_result"
    }
   ],
   "source": [
    "type(x1)"
   ]
  },
  {
   "cell_type": "code",
   "execution_count": 195,
   "metadata": {
    "collapsed": false
   },
   "outputs": [
    {
     "data": {
      "text/plain": [
       "numpy.ndarray"
      ]
     },
     "execution_count": 195,
     "metadata": {},
     "output_type": "execute_result"
    }
   ],
   "source": [
    "type(x2)"
   ]
  },
  {
   "cell_type": "code",
   "execution_count": 196,
   "metadata": {
    "collapsed": false
   },
   "outputs": [
    {
     "data": {
      "text/plain": [
       "array([4, 9])"
      ]
     },
     "execution_count": 196,
     "metadata": {},
     "output_type": "execute_result"
    }
   ],
   "source": [
    "a[x1]"
   ]
  },
  {
   "cell_type": "code",
   "execution_count": 197,
   "metadata": {
    "collapsed": false
   },
   "outputs": [
    {
     "data": {
      "text/plain": [
       "array([[[   4,    5,    6,    7],\n",
       "        [   8,    9,   10, 1234]],\n",
       "\n",
       "       [[   0,    1,    2,    3],\n",
       "        [   4,    5,    6,    7]]])"
      ]
     },
     "execution_count": 197,
     "metadata": {},
     "output_type": "execute_result"
    }
   ],
   "source": [
    "a[x2]"
   ]
  },
  {
   "cell_type": "code",
   "execution_count": 198,
   "metadata": {
    "collapsed": false
   },
   "outputs": [
    {
     "data": {
      "text/plain": [
       "array([[   0,    1,    2,    3],\n",
       "       [   4,    5,    6,    7],\n",
       "       [   8,    9,   10, 1234]])"
      ]
     },
     "execution_count": 198,
     "metadata": {},
     "output_type": "execute_result"
    }
   ],
   "source": [
    "a"
   ]
  },
  {
   "cell_type": "markdown",
   "metadata": {},
   "source": [
    "使用下标访问注意:如果a[x]中的x是list,那么每次从list的每个元素中分别取不同维的下标,list元素个数不能超过a的维数."
   ]
  },
  {
   "cell_type": "markdown",
   "metadata": {},
   "source": [
    "如果x是np.ndarray,则返回的shape和x是一样的,x中的每个元素为a的下标"
   ]
  },
  {
   "cell_type": "code",
   "execution_count": 199,
   "metadata": {
    "collapsed": false
   },
   "outputs": [
    {
     "data": {
      "text/plain": [
       "array([4, 9])"
      ]
     },
     "execution_count": 199,
     "metadata": {},
     "output_type": "execute_result"
    }
   ],
   "source": [
    "a[list(x2)]"
   ]
  },
  {
   "cell_type": "code",
   "execution_count": 202,
   "metadata": {
    "collapsed": false
   },
   "outputs": [
    {
     "data": {
      "text/plain": [
       "array([4, 9])"
      ]
     },
     "execution_count": 202,
     "metadata": {},
     "output_type": "execute_result"
    }
   ],
   "source": [
    "a[tuple(x2)]"
   ]
  },
  {
   "cell_type": "code",
   "execution_count": 211,
   "metadata": {
    "collapsed": false
   },
   "outputs": [],
   "source": [
    "x3 = array([[[0,1],[1,1]],[[1,2],[2,0]]])"
   ]
  },
  {
   "cell_type": "code",
   "execution_count": 212,
   "metadata": {
    "collapsed": false
   },
   "outputs": [
    {
     "data": {
      "text/plain": [
       "array([[[[   0,    1,    2,    3],\n",
       "         [   4,    5,    6,    7]],\n",
       "\n",
       "        [[   4,    5,    6,    7],\n",
       "         [   4,    5,    6,    7]]],\n",
       "\n",
       "\n",
       "       [[[   4,    5,    6,    7],\n",
       "         [   8,    9,   10, 1234]],\n",
       "\n",
       "        [[   8,    9,   10, 1234],\n",
       "         [   0,    1,    2,    3]]]])"
      ]
     },
     "execution_count": 212,
     "metadata": {},
     "output_type": "execute_result"
    }
   ],
   "source": [
    "a[x3]"
   ]
  },
  {
   "cell_type": "code",
   "execution_count": 217,
   "metadata": {
    "collapsed": false
   },
   "outputs": [],
   "source": [
    "a1 = array([1,2])\n",
    "a2 = array([2,3])\n",
    "c = a1*a2"
   ]
  },
  {
   "cell_type": "code",
   "execution_count": 221,
   "metadata": {
    "collapsed": true
   },
   "outputs": [],
   "source": [
    "a1 = array([1,2])\n",
    "a2 = array([2,3,4])\n",
    "a11,a22 = ix_(a1,a2)"
   ]
  },
  {
   "cell_type": "code",
   "execution_count": 222,
   "metadata": {
    "collapsed": false
   },
   "outputs": [
    {
     "data": {
      "text/plain": [
       "(array([[1],\n",
       "        [2]]), array([[2, 3, 4]]))"
      ]
     },
     "execution_count": 222,
     "metadata": {},
     "output_type": "execute_result"
    }
   ],
   "source": [
    "a11,a22"
   ]
  },
  {
   "cell_type": "code",
   "execution_count": 223,
   "metadata": {
    "collapsed": false
   },
   "outputs": [
    {
     "data": {
      "text/plain": [
       "array([[2, 3, 4],\n",
       "       [4, 6, 8]])"
      ]
     },
     "execution_count": 223,
     "metadata": {},
     "output_type": "execute_result"
    }
   ],
   "source": [
    "c = a11*a22\n",
    "c"
   ]
  },
  {
   "cell_type": "code",
   "execution_count": 224,
   "metadata": {
    "collapsed": false
   },
   "outputs": [
    {
     "data": {
      "text/plain": [
       "array([[2, 4],\n",
       "       [3, 6],\n",
       "       [4, 8]])"
      ]
     },
     "execution_count": 224,
     "metadata": {},
     "output_type": "execute_result"
    }
   ],
   "source": [
    "c.transpose()"
   ]
  },
  {
   "cell_type": "code",
   "execution_count": 225,
   "metadata": {
    "collapsed": false
   },
   "outputs": [
    {
     "ename": "NameError",
     "evalue": "name 'inv' is not defined",
     "output_type": "error",
     "traceback": [
      "\u001b[0;31m---------------------------------------------------------------------------\u001b[0m",
      "\u001b[0;31mNameError\u001b[0m                                 Traceback (most recent call last)",
      "\u001b[0;32m<ipython-input-225-01ff5be86a4e>\u001b[0m in \u001b[0;36m<module>\u001b[0;34m()\u001b[0m\n\u001b[0;32m----> 1\u001b[0;31m \u001b[0minv\u001b[0m\u001b[0;34m(\u001b[0m\u001b[0mc\u001b[0m\u001b[0;34m)\u001b[0m\u001b[0;34m\u001b[0m\u001b[0m\n\u001b[0m",
      "\u001b[0;31mNameError\u001b[0m: name 'inv' is not defined"
     ]
    }
   ],
   "source": [
    "inv(c)"
   ]
  },
  {
   "cell_type": "code",
   "execution_count": 226,
   "metadata": {
    "collapsed": true
   },
   "outputs": [],
   "source": [
    "from numpy.linalg import *"
   ]
  },
  {
   "cell_type": "code",
   "execution_count": 227,
   "metadata": {
    "collapsed": false,
    "scrolled": true
   },
   "outputs": [
    {
     "ename": "LinAlgError",
     "evalue": "Last 2 dimensions of the array must be square",
     "output_type": "error",
     "traceback": [
      "\u001b[0;31m---------------------------------------------------------------------------\u001b[0m",
      "\u001b[0;31mLinAlgError\u001b[0m                               Traceback (most recent call last)",
      "\u001b[0;32m<ipython-input-227-01ff5be86a4e>\u001b[0m in \u001b[0;36m<module>\u001b[0;34m()\u001b[0m\n\u001b[0;32m----> 1\u001b[0;31m \u001b[0minv\u001b[0m\u001b[0;34m(\u001b[0m\u001b[0mc\u001b[0m\u001b[0;34m)\u001b[0m\u001b[0;34m\u001b[0m\u001b[0m\n\u001b[0m",
      "\u001b[0;32m/home/lzjqsdd/APP/anaconda3/lib/python3.5/site-packages/numpy/linalg/linalg.py\u001b[0m in \u001b[0;36minv\u001b[0;34m(a)\u001b[0m\n\u001b[1;32m    515\u001b[0m     \u001b[0ma\u001b[0m\u001b[0;34m,\u001b[0m \u001b[0mwrap\u001b[0m \u001b[0;34m=\u001b[0m \u001b[0m_makearray\u001b[0m\u001b[0;34m(\u001b[0m\u001b[0ma\u001b[0m\u001b[0;34m)\u001b[0m\u001b[0;34m\u001b[0m\u001b[0m\n\u001b[1;32m    516\u001b[0m     \u001b[0m_assertRankAtLeast2\u001b[0m\u001b[0;34m(\u001b[0m\u001b[0ma\u001b[0m\u001b[0;34m)\u001b[0m\u001b[0;34m\u001b[0m\u001b[0m\n\u001b[0;32m--> 517\u001b[0;31m     \u001b[0m_assertNdSquareness\u001b[0m\u001b[0;34m(\u001b[0m\u001b[0ma\u001b[0m\u001b[0;34m)\u001b[0m\u001b[0;34m\u001b[0m\u001b[0m\n\u001b[0m\u001b[1;32m    518\u001b[0m     \u001b[0mt\u001b[0m\u001b[0;34m,\u001b[0m \u001b[0mresult_t\u001b[0m \u001b[0;34m=\u001b[0m \u001b[0m_commonType\u001b[0m\u001b[0;34m(\u001b[0m\u001b[0ma\u001b[0m\u001b[0;34m)\u001b[0m\u001b[0;34m\u001b[0m\u001b[0m\n\u001b[1;32m    519\u001b[0m \u001b[0;34m\u001b[0m\u001b[0m\n",
      "\u001b[0;32m/home/lzjqsdd/APP/anaconda3/lib/python3.5/site-packages/numpy/linalg/linalg.py\u001b[0m in \u001b[0;36m_assertNdSquareness\u001b[0;34m(*arrays)\u001b[0m\n\u001b[1;32m    210\u001b[0m     \u001b[0;32mfor\u001b[0m \u001b[0ma\u001b[0m \u001b[0;32min\u001b[0m \u001b[0marrays\u001b[0m\u001b[0;34m:\u001b[0m\u001b[0;34m\u001b[0m\u001b[0m\n\u001b[1;32m    211\u001b[0m         \u001b[0;32mif\u001b[0m \u001b[0mmax\u001b[0m\u001b[0;34m(\u001b[0m\u001b[0ma\u001b[0m\u001b[0;34m.\u001b[0m\u001b[0mshape\u001b[0m\u001b[0;34m[\u001b[0m\u001b[0;34m-\u001b[0m\u001b[0;36m2\u001b[0m\u001b[0;34m:\u001b[0m\u001b[0;34m]\u001b[0m\u001b[0;34m)\u001b[0m \u001b[0;34m!=\u001b[0m \u001b[0mmin\u001b[0m\u001b[0;34m(\u001b[0m\u001b[0ma\u001b[0m\u001b[0;34m.\u001b[0m\u001b[0mshape\u001b[0m\u001b[0;34m[\u001b[0m\u001b[0;34m-\u001b[0m\u001b[0;36m2\u001b[0m\u001b[0;34m:\u001b[0m\u001b[0;34m]\u001b[0m\u001b[0;34m)\u001b[0m\u001b[0;34m:\u001b[0m\u001b[0;34m\u001b[0m\u001b[0m\n\u001b[0;32m--> 212\u001b[0;31m             \u001b[0;32mraise\u001b[0m \u001b[0mLinAlgError\u001b[0m\u001b[0;34m(\u001b[0m\u001b[0;34m'Last 2 dimensions of the array must be square'\u001b[0m\u001b[0;34m)\u001b[0m\u001b[0;34m\u001b[0m\u001b[0m\n\u001b[0m\u001b[1;32m    213\u001b[0m \u001b[0;34m\u001b[0m\u001b[0m\n\u001b[1;32m    214\u001b[0m \u001b[0;32mdef\u001b[0m \u001b[0m_assertFinite\u001b[0m\u001b[0;34m(\u001b[0m\u001b[0;34m*\u001b[0m\u001b[0marrays\u001b[0m\u001b[0;34m)\u001b[0m\u001b[0;34m:\u001b[0m\u001b[0;34m\u001b[0m\u001b[0m\n",
      "\u001b[0;31mLinAlgError\u001b[0m: Last 2 dimensions of the array must be square"
     ]
    }
   ],
   "source": [
    "inv(c)"
   ]
  },
  {
   "cell_type": "code",
   "execution_count": 228,
   "metadata": {
    "collapsed": true
   },
   "outputs": [],
   "source": [
    "xc = array([[1,2],[2,3]])"
   ]
  },
  {
   "cell_type": "code",
   "execution_count": 229,
   "metadata": {
    "collapsed": false
   },
   "outputs": [
    {
     "data": {
      "text/plain": [
       "array([[-3.,  2.],\n",
       "       [ 2., -1.]])"
      ]
     },
     "execution_count": 229,
     "metadata": {},
     "output_type": "execute_result"
    }
   ],
   "source": [
    "inv(xc)"
   ]
  },
  {
   "cell_type": "code",
   "execution_count": 230,
   "metadata": {
    "collapsed": true
   },
   "outputs": [],
   "source": [
    "u = eye(3)"
   ]
  },
  {
   "cell_type": "code",
   "execution_count": 231,
   "metadata": {
    "collapsed": false
   },
   "outputs": [
    {
     "data": {
      "text/plain": [
       "array([[ 1.,  0.,  0.],\n",
       "       [ 0.,  1.,  0.],\n",
       "       [ 0.,  0.,  1.]])"
      ]
     },
     "execution_count": 231,
     "metadata": {},
     "output_type": "execute_result"
    }
   ],
   "source": [
    "u"
   ]
  },
  {
   "cell_type": "code",
   "execution_count": 232,
   "metadata": {
    "collapsed": false
   },
   "outputs": [
    {
     "data": {
      "text/plain": [
       "(array([ 1.,  1.,  1.]), array([[ 1.,  0.,  0.],\n",
       "        [ 0.,  1.,  0.],\n",
       "        [ 0.,  0.,  1.]]))"
      ]
     },
     "execution_count": 232,
     "metadata": {},
     "output_type": "execute_result"
    }
   ],
   "source": [
    "eig(u)"
   ]
  },
  {
   "cell_type": "code",
   "execution_count": 233,
   "metadata": {
    "collapsed": true
   },
   "outputs": [],
   "source": [
    "m = matrix('1,2,3')"
   ]
  },
  {
   "cell_type": "code",
   "execution_count": 234,
   "metadata": {
    "collapsed": false
   },
   "outputs": [
    {
     "data": {
      "text/plain": [
       "matrix([[1, 2, 3]])"
      ]
     },
     "execution_count": 234,
     "metadata": {},
     "output_type": "execute_result"
    }
   ],
   "source": [
    "m"
   ]
  },
  {
   "cell_type": "code",
   "execution_count": 235,
   "metadata": {
    "collapsed": false
   },
   "outputs": [
    {
     "ename": "TypeError",
     "evalue": "'matrix' object is not callable",
     "output_type": "error",
     "traceback": [
      "\u001b[0;31m---------------------------------------------------------------------------\u001b[0m",
      "\u001b[0;31mTypeError\u001b[0m                                 Traceback (most recent call last)",
      "\u001b[0;32m<ipython-input-235-eae1977282b5>\u001b[0m in \u001b[0;36m<module>\u001b[0;34m()\u001b[0m\n\u001b[0;32m----> 1\u001b[0;31m \u001b[0mm\u001b[0m\u001b[0;34m.\u001b[0m\u001b[0mT\u001b[0m\u001b[0;34m(\u001b[0m\u001b[0;34m)\u001b[0m\u001b[0;34m\u001b[0m\u001b[0m\n\u001b[0m",
      "\u001b[0;31mTypeError\u001b[0m: 'matrix' object is not callable"
     ]
    }
   ],
   "source": [
    "m.T()"
   ]
  },
  {
   "cell_type": "code",
   "execution_count": 236,
   "metadata": {
    "collapsed": false
   },
   "outputs": [
    {
     "data": {
      "text/plain": [
       "matrix([[1],\n",
       "        [2],\n",
       "        [3]])"
      ]
     },
     "execution_count": 236,
     "metadata": {},
     "output_type": "execute_result"
    }
   ],
   "source": [
    "m.T"
   ]
  },
  {
   "cell_type": "code",
   "execution_count": 238,
   "metadata": {
    "collapsed": false
   },
   "outputs": [
    {
     "data": {
      "text/plain": [
       "matrix([[20]])"
      ]
     },
     "execution_count": 238,
     "metadata": {},
     "output_type": "execute_result"
    }
   ],
   "source": [
    "a = matrix([1,3])\n",
    "b = matrix([2,6])\n",
    "c = a*b.T\n",
    "c"
   ]
  },
  {
   "cell_type": "code",
   "execution_count": 239,
   "metadata": {
    "collapsed": true
   },
   "outputs": [],
   "source": [
    "arr = array([[1,2,3],[3,4,5]])\n",
    "ma = mat(arr.copy())"
   ]
  },
  {
   "cell_type": "code",
   "execution_count": 241,
   "metadata": {
    "collapsed": false
   },
   "outputs": [
    {
     "data": {
      "text/plain": [
       "((2, 3), (2, 3))"
      ]
     },
     "execution_count": 241,
     "metadata": {},
     "output_type": "execute_result"
    }
   ],
   "source": [
    "arr.shape,ma.shape"
   ]
  },
  {
   "cell_type": "code",
   "execution_count": 242,
   "metadata": {
    "collapsed": false
   },
   "outputs": [
    {
     "data": {
      "text/plain": [
       "(numpy.ndarray, numpy.matrixlib.defmatrix.matrix)"
      ]
     },
     "execution_count": 242,
     "metadata": {},
     "output_type": "execute_result"
    }
   ],
   "source": [
    "type(arr),type(ma)"
   ]
  },
  {
   "cell_type": "code",
   "execution_count": 243,
   "metadata": {
    "collapsed": false
   },
   "outputs": [
    {
     "data": {
      "text/plain": [
       "(1, 1)"
      ]
     },
     "execution_count": 243,
     "metadata": {},
     "output_type": "execute_result"
    }
   ],
   "source": [
    "arr[0,0],ma[0,0]"
   ]
  },
  {
   "cell_type": "code",
   "execution_count": 244,
   "metadata": {
    "collapsed": false
   },
   "outputs": [
    {
     "data": {
      "text/plain": [
       "1"
      ]
     },
     "execution_count": 244,
     "metadata": {},
     "output_type": "execute_result"
    }
   ],
   "source": [
    "arr[0,0]"
   ]
  },
  {
   "cell_type": "code",
   "execution_count": 245,
   "metadata": {
    "collapsed": false
   },
   "outputs": [
    {
     "data": {
      "text/plain": [
       "array([], shape=(0, 3), dtype=int64)"
      ]
     },
     "execution_count": 245,
     "metadata": {},
     "output_type": "execute_result"
    }
   ],
   "source": [
    "arr[:0]"
   ]
  },
  {
   "cell_type": "code",
   "execution_count": 246,
   "metadata": {
    "collapsed": false
   },
   "outputs": [
    {
     "data": {
      "text/plain": [
       "array([1, 3])"
      ]
     },
     "execution_count": 246,
     "metadata": {},
     "output_type": "execute_result"
    }
   ],
   "source": [
    "arr[:,0]"
   ]
  },
  {
   "cell_type": "code",
   "execution_count": 249,
   "metadata": {
    "collapsed": false
   },
   "outputs": [
    {
     "data": {
      "text/plain": [
       "matrix([[1],\n",
       "        [3]])"
      ]
     },
     "execution_count": 249,
     "metadata": {},
     "output_type": "execute_result"
    }
   ],
   "source": [
    "ma[:,0]"
   ]
  },
  {
   "cell_type": "markdown",
   "metadata": {},
   "source": [
    "> http://scipy.github.io/old-wiki/pages/Tentative_NumPy_Tutorial#Prerequisites"
   ]
  },
  {
   "cell_type": "markdown",
   "metadata": {
    "collapsed": true
   },
   "source": [
    "**什么是randomState，随机数发生器**"
   ]
  },
  {
   "cell_type": "code",
   "execution_count": 7,
   "metadata": {
    "collapsed": false
   },
   "outputs": [
    {
     "data": {
      "text/plain": [
       "array([ 0.5488135 ,  0.71518937,  0.60276338,  0.54488318])"
      ]
     },
     "execution_count": 7,
     "metadata": {},
     "output_type": "execute_result"
    }
   ],
   "source": [
    "import numpy as np\n",
    "np.random.seed(0)\n",
    "np.random.rand(4)"
   ]
  },
  {
   "cell_type": "code",
   "execution_count": 6,
   "metadata": {
    "collapsed": false
   },
   "outputs": [
    {
     "data": {
      "text/plain": [
       "array([ 0.5488135 ,  0.71518937,  0.60276338,  0.54488318])"
      ]
     },
     "execution_count": 6,
     "metadata": {},
     "output_type": "execute_result"
    }
   ],
   "source": [
    "np.random.seed(0)\n",
    "np.random.rand(4)"
   ]
  },
  {
   "cell_type": "markdown",
   "metadata": {},
   "source": [
    "如果每次都把seed复位，那么rand相同的数每次产生都是相同的随机数\n",
    "如果不复位，rand相同的数产生不同的随机数"
   ]
  },
  {
   "cell_type": "code",
   "execution_count": 8,
   "metadata": {
    "collapsed": false
   },
   "outputs": [
    {
     "data": {
      "text/plain": [
       "array([ 0.5488135 ,  0.71518937,  0.60276338,  0.54488318])"
      ]
     },
     "execution_count": 8,
     "metadata": {},
     "output_type": "execute_result"
    }
   ],
   "source": [
    "np.random.seed(0)\n",
    "np.random.rand(4)"
   ]
  },
  {
   "cell_type": "code",
   "execution_count": 9,
   "metadata": {
    "collapsed": false
   },
   "outputs": [
    {
     "data": {
      "text/plain": [
       "array([ 0.4236548 ,  0.64589411,  0.43758721,  0.891773  ])"
      ]
     },
     "execution_count": 9,
     "metadata": {},
     "output_type": "execute_result"
    }
   ],
   "source": [
    "np.random.rand(4)"
   ]
  },
  {
   "cell_type": "markdown",
   "metadata": {},
   "source": [
    "***"
   ]
  },
  {
   "cell_type": "code",
   "execution_count": null,
   "metadata": {
    "collapsed": true
   },
   "outputs": [],
   "source": []
  }
 ],
 "metadata": {
  "anaconda-cloud": {},
  "kernelspec": {
   "display_name": "Python [conda root]",
   "language": "python",
   "name": "conda-root-py"
  },
  "language_info": {
   "codemirror_mode": {
    "name": "ipython",
    "version": 3
   },
   "file_extension": ".py",
   "mimetype": "text/x-python",
   "name": "python",
   "nbconvert_exporter": "python",
   "pygments_lexer": "ipython3",
   "version": "3.5.2"
  },
  "nbpresent": {
   "slides": {
    "001f7231-891c-4752-80c8-4544d2c83125": {
     "id": "001f7231-891c-4752-80c8-4544d2c83125",
     "prev": "21bf9e4b-0b78-4f24-b470-7de6dfdc0d4e",
     "regions": {
      "cd53d909-1faa-4c74-a969-61198e6fc873": {
       "attrs": {
        "height": 0.8,
        "width": 0.8,
        "x": 0.1,
        "y": 0.1
       },
       "content": {
        "cell": "9991219a-a26e-47a2-a7f3-d8871d0fe716",
        "part": "whole"
       },
       "id": "cd53d909-1faa-4c74-a969-61198e6fc873"
      }
     }
    },
    "021586d8-5c0a-48fc-bb31-e455f7c97a65": {
     "id": "021586d8-5c0a-48fc-bb31-e455f7c97a65",
     "prev": "1e4e8e59-93df-4cb2-a7aa-4a5ae7dcdb21",
     "regions": {
      "f408f563-f4cb-4e57-9267-f8cac36af7d1": {
       "attrs": {
        "height": 0.8,
        "width": 0.8,
        "x": 0.1,
        "y": 0.1
       },
       "content": {
        "cell": "ae0b1d33-b44e-49dd-a705-d404aa24a607",
        "part": "whole"
       },
       "id": "f408f563-f4cb-4e57-9267-f8cac36af7d1"
      }
     }
    },
    "048420e1-29a3-4929-b56c-22990622572e": {
     "id": "048420e1-29a3-4929-b56c-22990622572e",
     "prev": "77f0e53f-8f05-4d6d-8894-04119efe67e0",
     "regions": {
      "5ef93e09-c99f-4816-994e-72df7e7deae0": {
       "attrs": {
        "height": 0.8,
        "width": 0.8,
        "x": 0.1,
        "y": 0.1
       },
       "content": {
        "cell": "93197a1e-0a97-4bdb-8932-132dc23545fe",
        "part": "whole"
       },
       "id": "5ef93e09-c99f-4816-994e-72df7e7deae0"
      }
     }
    },
    "0bdb5971-c766-4e8e-be72-187b8bb3333d": {
     "id": "0bdb5971-c766-4e8e-be72-187b8bb3333d",
     "prev": "da2a2e65-62d9-4aec-909e-1a074d3d6261",
     "regions": {
      "5eb29d32-cee5-4529-99b8-c526e3c4824d": {
       "attrs": {
        "height": 0.8,
        "width": 0.8,
        "x": 0.1,
        "y": 0.1
       },
       "content": {
        "cell": "64f6c28b-f737-4650-bbf2-e953ac2974f0",
        "part": "whole"
       },
       "id": "5eb29d32-cee5-4529-99b8-c526e3c4824d"
      }
     }
    },
    "0e385929-2279-42f6-b2f8-c5af5019d506": {
     "id": "0e385929-2279-42f6-b2f8-c5af5019d506",
     "prev": "4f926487-88b4-4b12-a09f-651571e3d575",
     "regions": {
      "6d573caf-31ee-403b-bab5-8e8c77b65d22": {
       "attrs": {
        "height": 0.8,
        "width": 0.8,
        "x": 0.1,
        "y": 0.1
       },
       "content": {
        "cell": "a1b7de92-8755-43df-aa3f-c337a2891a20",
        "part": "whole"
       },
       "id": "6d573caf-31ee-403b-bab5-8e8c77b65d22"
      }
     }
    },
    "0f3fd3e8-2369-4a76-b0aa-d2d0c30c916c": {
     "id": "0f3fd3e8-2369-4a76-b0aa-d2d0c30c916c",
     "prev": "bfd43dfb-4c49-4b3d-8e40-31c2ac7311bc",
     "regions": {
      "24e4d2ec-0382-4461-a1a7-f0764f235e53": {
       "attrs": {
        "height": 0.8,
        "width": 0.8,
        "x": 0.1,
        "y": 0.1
       },
       "content": {
        "cell": "0bd8ed2f-a92e-4a8e-8823-4cedc7252c8b",
        "part": "whole"
       },
       "id": "24e4d2ec-0382-4461-a1a7-f0764f235e53"
      }
     }
    },
    "0f62a8ee-928b-4280-a680-766e47d4e6af": {
     "id": "0f62a8ee-928b-4280-a680-766e47d4e6af",
     "prev": "ceae78a6-d720-48b3-a03b-b51ac65ab659",
     "regions": {
      "50ff477b-800a-44a8-b308-4b933c7f909c": {
       "attrs": {
        "height": 0.8,
        "width": 0.8,
        "x": 0.1,
        "y": 0.1
       },
       "content": {
        "cell": "da79c721-c090-4b63-8fce-1851c07eb72c",
        "part": "whole"
       },
       "id": "50ff477b-800a-44a8-b308-4b933c7f909c"
      }
     }
    },
    "13b6a761-d814-4830-8d25-67a1a2676fb3": {
     "id": "13b6a761-d814-4830-8d25-67a1a2676fb3",
     "prev": "4db63706-05e4-4d91-a62b-de3af3d86544",
     "regions": {
      "83775344-d0f5-4237-9400-4b8d7cee7322": {
       "attrs": {
        "height": 0.8,
        "width": 0.8,
        "x": 0.1,
        "y": 0.1
       },
       "content": {
        "cell": "ebe197de-3591-48a4-aa63-4b6705a8fa35",
        "part": "whole"
       },
       "id": "83775344-d0f5-4237-9400-4b8d7cee7322"
      }
     }
    },
    "1544f3fb-ea10-41e9-b3a5-a23cee61ff61": {
     "id": "1544f3fb-ea10-41e9-b3a5-a23cee61ff61",
     "prev": "3f9cbf0a-ff7e-406c-a871-455b4ba3765d",
     "regions": {
      "43592658-0d6c-49c1-aa1d-a50381fbcc61": {
       "attrs": {
        "height": 0.8,
        "width": 0.8,
        "x": 0.1,
        "y": 0.1
       },
       "content": {
        "cell": "b5f9ada3-c087-440c-bc2a-01f14968a5e0",
        "part": "whole"
       },
       "id": "43592658-0d6c-49c1-aa1d-a50381fbcc61"
      }
     }
    },
    "174c5ccc-4d66-4124-84d3-070225646de8": {
     "id": "174c5ccc-4d66-4124-84d3-070225646de8",
     "prev": "db191e6e-1278-49a3-bd82-1640e24647a6",
     "regions": {
      "74df99a2-6896-45ab-a5d6-2c22ce7722d8": {
       "attrs": {
        "height": 0.8,
        "width": 0.8,
        "x": 0.1,
        "y": 0.1
       },
       "content": {
        "cell": "1b4197fa-52a5-4f48-83b1-c6cb96d84a1a",
        "part": "whole"
       },
       "id": "74df99a2-6896-45ab-a5d6-2c22ce7722d8"
      }
     }
    },
    "1e4e8e59-93df-4cb2-a7aa-4a5ae7dcdb21": {
     "id": "1e4e8e59-93df-4cb2-a7aa-4a5ae7dcdb21",
     "prev": "1544f3fb-ea10-41e9-b3a5-a23cee61ff61",
     "regions": {
      "57d8c783-5926-4e64-a7f2-f319d39a74c9": {
       "attrs": {
        "height": 0.8,
        "width": 0.8,
        "x": 0.1,
        "y": 0.1
       },
       "content": {
        "cell": "390e5a16-c521-4447-a20d-06927867e431",
        "part": "whole"
       },
       "id": "57d8c783-5926-4e64-a7f2-f319d39a74c9"
      }
     }
    },
    "21bf9e4b-0b78-4f24-b470-7de6dfdc0d4e": {
     "id": "21bf9e4b-0b78-4f24-b470-7de6dfdc0d4e",
     "prev": "e1dce511-3c2f-43e4-81a5-9e08ababc24a",
     "regions": {
      "c1e96db5-06e3-4940-bb67-d040167206a8": {
       "attrs": {
        "height": 0.8,
        "width": 0.8,
        "x": 0.1,
        "y": 0.1
       },
       "content": {
        "cell": "c29e485e-e435-456b-932d-fc99b22b68fd",
        "part": "whole"
       },
       "id": "c1e96db5-06e3-4940-bb67-d040167206a8"
      }
     }
    },
    "26ccdacd-b05b-4d81-ac2b-92ab79a2229e": {
     "id": "26ccdacd-b05b-4d81-ac2b-92ab79a2229e",
     "prev": "001f7231-891c-4752-80c8-4544d2c83125",
     "regions": {
      "d147eeab-16c5-460b-a473-af712b15ca16": {
       "attrs": {
        "height": 0.8,
        "width": 0.8,
        "x": 0.1,
        "y": 0.1
       },
       "content": {
        "cell": "cfe2699c-80f6-4b76-82bc-50ad8e061548",
        "part": "whole"
       },
       "id": "d147eeab-16c5-460b-a473-af712b15ca16"
      }
     }
    },
    "27eb6ce1-3bce-4360-923d-945a602786b5": {
     "id": "27eb6ce1-3bce-4360-923d-945a602786b5",
     "prev": "92db6d0c-c2ac-409f-b688-f533fe59258d",
     "regions": {
      "a1499ac2-62b4-4694-b94e-9d2ecdbeeae3": {
       "attrs": {
        "height": 0.8,
        "width": 0.8,
        "x": 0.1,
        "y": 0.1
       },
       "content": {
        "cell": "c36183d7-1c2a-45dc-a99f-94004625884e",
        "part": "whole"
       },
       "id": "a1499ac2-62b4-4694-b94e-9d2ecdbeeae3"
      }
     }
    },
    "2ad30be4-9551-431f-a7ae-a9b25367454f": {
     "id": "2ad30be4-9551-431f-a7ae-a9b25367454f",
     "prev": "568a66f8-6258-457c-abf9-c67b7b2e5d38",
     "regions": {
      "231a733f-4fd4-4659-a783-9b9b270a1a30": {
       "attrs": {
        "height": 0.8,
        "width": 0.8,
        "x": 0.1,
        "y": 0.1
       },
       "content": {
        "cell": "e7be8576-12ed-4aaf-b311-24060897aa63",
        "part": "whole"
       },
       "id": "231a733f-4fd4-4659-a783-9b9b270a1a30"
      }
     }
    },
    "3579f79d-8bb4-4518-8ece-6c24e756b9b2": {
     "id": "3579f79d-8bb4-4518-8ece-6c24e756b9b2",
     "prev": "ee6589f8-8f49-4632-b957-d3019561fd37",
     "regions": {
      "36073d69-70c2-435a-bf30-f78a3562ecd5": {
       "attrs": {
        "height": 0.8,
        "width": 0.8,
        "x": 0.1,
        "y": 0.1
       },
       "content": {
        "cell": "7500c8ce-88bb-4a69-8782-c97b59ee4541",
        "part": "whole"
       },
       "id": "36073d69-70c2-435a-bf30-f78a3562ecd5"
      }
     }
    },
    "37af3690-08e9-4e50-9c72-9334fc7e3eec": {
     "id": "37af3690-08e9-4e50-9c72-9334fc7e3eec",
     "prev": "0f3fd3e8-2369-4a76-b0aa-d2d0c30c916c",
     "regions": {
      "45330e6e-5620-4fde-88af-f5f3ddd436a1": {
       "attrs": {
        "height": 0.8,
        "width": 0.8,
        "x": 0.1,
        "y": 0.1
       },
       "content": {
        "cell": "e01f2ad1-ef12-48bd-9802-29157ccb8f1c",
        "part": "whole"
       },
       "id": "45330e6e-5620-4fde-88af-f5f3ddd436a1"
      }
     }
    },
    "3d84de1e-32d0-4ec2-8d69-b2178a3c0dd3": {
     "id": "3d84de1e-32d0-4ec2-8d69-b2178a3c0dd3",
     "prev": "cc57a7bd-6d61-468d-ac35-5a248e02955c",
     "regions": {
      "df4d2d9e-94c6-4bd2-ad6f-9ad7b80497d3": {
       "attrs": {
        "height": 0.8,
        "width": 0.8,
        "x": 0.1,
        "y": 0.1
       },
       "content": {
        "cell": "72aea633-83ae-4578-8eb8-8a6dbef548d0",
        "part": "whole"
       },
       "id": "df4d2d9e-94c6-4bd2-ad6f-9ad7b80497d3"
      }
     }
    },
    "3e3f1b55-f6ce-4d35-9e26-1ab9ecfe38e5": {
     "id": "3e3f1b55-f6ce-4d35-9e26-1ab9ecfe38e5",
     "prev": "3d84de1e-32d0-4ec2-8d69-b2178a3c0dd3",
     "regions": {
      "6e4de17c-a32a-4b7c-ab36-a41173d963db": {
       "attrs": {
        "height": 0.8,
        "width": 0.8,
        "x": 0.1,
        "y": 0.1
       },
       "content": {
        "cell": "023ba5e0-5b81-44cd-9c59-7c941a7b363e",
        "part": "whole"
       },
       "id": "6e4de17c-a32a-4b7c-ab36-a41173d963db"
      }
     }
    },
    "3f9cbf0a-ff7e-406c-a871-455b4ba3765d": {
     "id": "3f9cbf0a-ff7e-406c-a871-455b4ba3765d",
     "prev": "3579f79d-8bb4-4518-8ece-6c24e756b9b2",
     "regions": {
      "c692bef2-d4e2-45fa-8b88-f7904aba15f1": {
       "attrs": {
        "height": 0.8,
        "width": 0.8,
        "x": 0.1,
        "y": 0.1
       },
       "content": {
        "cell": "78e7a820-1fe3-4b0d-8792-0e6623705fda",
        "part": "whole"
       },
       "id": "c692bef2-d4e2-45fa-8b88-f7904aba15f1"
      }
     }
    },
    "42be7f6d-b982-4dc1-ad4f-fb81ad7506eb": {
     "id": "42be7f6d-b982-4dc1-ad4f-fb81ad7506eb",
     "prev": "3e3f1b55-f6ce-4d35-9e26-1ab9ecfe38e5",
     "regions": {
      "2e9c626e-f70e-42fb-af43-11a4e4fe4367": {
       "attrs": {
        "height": 0.8,
        "width": 0.8,
        "x": 0.1,
        "y": 0.1
       },
       "content": {
        "cell": "74f1413c-12ac-4775-9979-e8bdea9b941f",
        "part": "whole"
       },
       "id": "2e9c626e-f70e-42fb-af43-11a4e4fe4367"
      }
     }
    },
    "42ef5fea-f3de-46dc-afdc-85a8fdfa9702": {
     "id": "42ef5fea-f3de-46dc-afdc-85a8fdfa9702",
     "prev": "8cf2ece4-36ec-476c-b0df-ad9d1351ea4b",
     "regions": {
      "37b70a12-45e9-4596-be08-f8db0016b2bd": {
       "attrs": {
        "height": 0.8,
        "width": 0.8,
        "x": 0.1,
        "y": 0.1
       },
       "content": {
        "cell": "6e7c2aa0-23a3-4a2e-86ff-7314419d9c13",
        "part": "whole"
       },
       "id": "37b70a12-45e9-4596-be08-f8db0016b2bd"
      }
     }
    },
    "46790e46-051b-475f-9894-a29997fc5a0c": {
     "id": "46790e46-051b-475f-9894-a29997fc5a0c",
     "prev": "b5ad9d8b-d481-47d6-a015-517cb2a41f60",
     "regions": {
      "9d1b25f4-4a5a-40e7-9899-410e97b600c1": {
       "attrs": {
        "height": 0.8,
        "width": 0.8,
        "x": 0.1,
        "y": 0.1
       },
       "content": {
        "cell": "20eb7120-1802-46cc-ae4a-83ba714f9a51",
        "part": "whole"
       },
       "id": "9d1b25f4-4a5a-40e7-9899-410e97b600c1"
      }
     }
    },
    "4db63706-05e4-4d91-a62b-de3af3d86544": {
     "id": "4db63706-05e4-4d91-a62b-de3af3d86544",
     "prev": "d17d51e5-5df7-4fb3-b30f-1249d6ff086b",
     "regions": {
      "92910d43-5160-45cd-8334-5e1629d08015": {
       "attrs": {
        "height": 0.8,
        "width": 0.8,
        "x": 0.1,
        "y": 0.1
       },
       "content": {
        "cell": "8a492688-5c7c-42c0-abf8-b7fc3908ca73",
        "part": "whole"
       },
       "id": "92910d43-5160-45cd-8334-5e1629d08015"
      }
     }
    },
    "4f926487-88b4-4b12-a09f-651571e3d575": {
     "id": "4f926487-88b4-4b12-a09f-651571e3d575",
     "prev": "b96b156d-4b25-4e7d-b8cf-d5ff02ea8027",
     "regions": {
      "519ad242-92f8-4e1c-bf19-e01fd194dba0": {
       "attrs": {
        "height": 0.8,
        "width": 0.8,
        "x": 0.1,
        "y": 0.1
       },
       "content": {
        "cell": "d0199272-40b6-4645-9ac2-94de3296e293",
        "part": "whole"
       },
       "id": "519ad242-92f8-4e1c-bf19-e01fd194dba0"
      }
     }
    },
    "53831264-497b-4569-a85a-22ddcf7ab319": {
     "id": "53831264-497b-4569-a85a-22ddcf7ab319",
     "prev": "37af3690-08e9-4e50-9c72-9334fc7e3eec",
     "regions": {
      "353ad4cd-e076-44f4-9bb1-8d3f3da8ade4": {
       "attrs": {
        "height": 0.8,
        "width": 0.8,
        "x": 0.1,
        "y": 0.1
       },
       "content": {
        "cell": "4e25870d-de0a-4656-8f42-ee32b2e50e78",
        "part": "whole"
       },
       "id": "353ad4cd-e076-44f4-9bb1-8d3f3da8ade4"
      }
     }
    },
    "54fc52ca-d352-469c-a77a-18d27fefa9bb": {
     "id": "54fc52ca-d352-469c-a77a-18d27fefa9bb",
     "prev": "42ef5fea-f3de-46dc-afdc-85a8fdfa9702",
     "regions": {
      "edd80c2d-cc95-49b8-b112-4403fae711e4": {
       "attrs": {
        "height": 0.8,
        "width": 0.8,
        "x": 0.1,
        "y": 0.1
       },
       "content": {
        "cell": "78ee0406-f3dd-426e-aa5b-76c5b48d12aa",
        "part": "whole"
       },
       "id": "edd80c2d-cc95-49b8-b112-4403fae711e4"
      }
     }
    },
    "55a0c858-b078-48a5-b057-f2a5d0bcfa37": {
     "id": "55a0c858-b078-48a5-b057-f2a5d0bcfa37",
     "prev": "42be7f6d-b982-4dc1-ad4f-fb81ad7506eb",
     "regions": {
      "45ecd1ac-551a-44ee-8b12-d48e5d1bad9f": {
       "attrs": {
        "height": 0.8,
        "width": 0.8,
        "x": 0.1,
        "y": 0.1
       },
       "content": {
        "cell": "8160b477-06d8-47d7-95f8-8fecddd96d67",
        "part": "whole"
       },
       "id": "45ecd1ac-551a-44ee-8b12-d48e5d1bad9f"
      }
     }
    },
    "568a66f8-6258-457c-abf9-c67b7b2e5d38": {
     "id": "568a66f8-6258-457c-abf9-c67b7b2e5d38",
     "prev": "d3e89579-7c96-45fa-9965-163cc619f0f0",
     "regions": {
      "d039b851-eefa-48ce-906d-1efd893c644f": {
       "attrs": {
        "height": 0.8,
        "width": 0.8,
        "x": 0.1,
        "y": 0.1
       },
       "content": {
        "cell": "222a2f7f-745c-49f3-a50d-ae3c6f14592f",
        "part": "whole"
       },
       "id": "d039b851-eefa-48ce-906d-1efd893c644f"
      }
     }
    },
    "77f0e53f-8f05-4d6d-8894-04119efe67e0": {
     "id": "77f0e53f-8f05-4d6d-8894-04119efe67e0",
     "prev": "53831264-497b-4569-a85a-22ddcf7ab319",
     "regions": {
      "874d976f-679c-42ad-a580-c6ed60bc9ad1": {
       "attrs": {
        "height": 0.8,
        "width": 0.8,
        "x": 0.1,
        "y": 0.1
       },
       "content": {
        "cell": "04a28242-800a-4e5e-93e9-1b1dd30408c9",
        "part": "whole"
       },
       "id": "874d976f-679c-42ad-a580-c6ed60bc9ad1"
      }
     }
    },
    "79dd2d2e-1f6c-49e0-a242-3927fe43c477": {
     "id": "79dd2d2e-1f6c-49e0-a242-3927fe43c477",
     "prev": "965de5ff-0aea-4452-a9fa-b2499c0abab7",
     "regions": {
      "5f2595f5-52cd-4d89-96af-67beb66862e4": {
       "attrs": {
        "height": 0.8,
        "width": 0.8,
        "x": 0.1,
        "y": 0.1
       },
       "content": {
        "cell": "609c21d1-4ecd-4a1b-8375-d9357abc0a8c",
        "part": "whole"
       },
       "id": "5f2595f5-52cd-4d89-96af-67beb66862e4"
      }
     }
    },
    "8706111e-cb93-4dd4-af8e-1ee864e03843": {
     "id": "8706111e-cb93-4dd4-af8e-1ee864e03843",
     "prev": "048420e1-29a3-4929-b56c-22990622572e",
     "regions": {
      "1034529e-8050-4ba7-ad2d-a6bc898571bf": {
       "attrs": {
        "height": 0.8,
        "width": 0.8,
        "x": 0.1,
        "y": 0.1
       },
       "content": {
        "cell": "2fe9dae5-1311-4dbc-9c88-0796bc4440b8",
        "part": "whole"
       },
       "id": "1034529e-8050-4ba7-ad2d-a6bc898571bf"
      }
     }
    },
    "8cf2ece4-36ec-476c-b0df-ad9d1351ea4b": {
     "id": "8cf2ece4-36ec-476c-b0df-ad9d1351ea4b",
     "prev": "b0ecd56e-9b8c-4dc4-bc40-60e8743bfca4",
     "regions": {
      "68efc3bd-6dec-4194-84f0-19930ea43106": {
       "attrs": {
        "height": 0.8,
        "width": 0.8,
        "x": 0.1,
        "y": 0.1
       },
       "content": {
        "cell": "160e4b5e-affb-4a78-bbe2-2b6fe1021904",
        "part": "whole"
       },
       "id": "68efc3bd-6dec-4194-84f0-19930ea43106"
      }
     }
    },
    "8fe216a1-dc21-417c-848d-a47bd09c7685": {
     "id": "8fe216a1-dc21-417c-848d-a47bd09c7685",
     "prev": "26ccdacd-b05b-4d81-ac2b-92ab79a2229e",
     "regions": {
      "307cf502-8eea-4094-929b-ed3f6ae792f5": {
       "attrs": {
        "height": 0.8,
        "width": 0.8,
        "x": 0.1,
        "y": 0.1
       },
       "content": {
        "cell": "1a46dd6e-432c-448e-9a95-210abc040d67",
        "part": "whole"
       },
       "id": "307cf502-8eea-4094-929b-ed3f6ae792f5"
      }
     }
    },
    "9128d876-224d-49f5-ad7a-fd2642ece7c1": {
     "id": "9128d876-224d-49f5-ad7a-fd2642ece7c1",
     "prev": "ab942ca1-b7a9-416d-aab9-2b1547640d7c",
     "regions": {
      "6f064826-f2d3-4c07-9a3b-cc4ef0c8b6ed": {
       "attrs": {
        "height": 0.8,
        "width": 0.8,
        "x": 0.1,
        "y": 0.1
       },
       "content": {
        "cell": "54750490-fe25-4377-8354-b5ac4ec3dd41",
        "part": "whole"
       },
       "id": "6f064826-f2d3-4c07-9a3b-cc4ef0c8b6ed"
      }
     }
    },
    "92db6d0c-c2ac-409f-b688-f533fe59258d": {
     "id": "92db6d0c-c2ac-409f-b688-f533fe59258d",
     "prev": "13b6a761-d814-4830-8d25-67a1a2676fb3",
     "regions": {
      "ae7fd34f-9a69-4664-a1a9-9dd31ea8f5d0": {
       "attrs": {
        "height": 0.8,
        "width": 0.8,
        "x": 0.1,
        "y": 0.1
       },
       "content": {
        "cell": "9d91b37e-9d25-44cc-aa5a-a5ae76cb749e",
        "part": "whole"
       },
       "id": "ae7fd34f-9a69-4664-a1a9-9dd31ea8f5d0"
      }
     }
    },
    "965de5ff-0aea-4452-a9fa-b2499c0abab7": {
     "id": "965de5ff-0aea-4452-a9fa-b2499c0abab7",
     "prev": "999dee53-a7a7-4b9b-8b8e-771d0ff06cda",
     "regions": {
      "e4d7a944-a362-4be8-89b2-968441b26317": {
       "attrs": {
        "height": 0.8,
        "width": 0.8,
        "x": 0.1,
        "y": 0.1
       },
       "content": {
        "cell": "8b40636c-43eb-4c3e-b504-5750db2085a4",
        "part": "whole"
       },
       "id": "e4d7a944-a362-4be8-89b2-968441b26317"
      }
     }
    },
    "96e4ba94-0e58-4a65-8571-e1e4cdbc2f2d": {
     "id": "96e4ba94-0e58-4a65-8571-e1e4cdbc2f2d",
     "prev": "ffb6a40a-a071-4fe0-a532-cb2167eb56a9",
     "regions": {
      "0b04d86e-1783-4d8e-bbca-9ed41485bcb8": {
       "attrs": {
        "height": 0.8,
        "width": 0.8,
        "x": 0.1,
        "y": 0.1
       },
       "content": {
        "cell": "a9cc341a-2b6e-40f0-a03f-30ccfeea9595",
        "part": "whole"
       },
       "id": "0b04d86e-1783-4d8e-bbca-9ed41485bcb8"
      }
     }
    },
    "999dee53-a7a7-4b9b-8b8e-771d0ff06cda": {
     "id": "999dee53-a7a7-4b9b-8b8e-771d0ff06cda",
     "prev": "fa8d4080-f35b-414b-b143-a2d56eb6d5db",
     "regions": {
      "7c80fb52-222a-4dc8-b682-9ebb5f92798f": {
       "attrs": {
        "height": 0.8,
        "width": 0.8,
        "x": 0.1,
        "y": 0.1
       },
       "content": {
        "cell": "b40e495e-7d24-4829-a509-427cbf98319c",
        "part": "whole"
       },
       "id": "7c80fb52-222a-4dc8-b682-9ebb5f92798f"
      }
     }
    },
    "9f7289ec-53dd-4eb6-a871-e68a01b0382e": {
     "id": "9f7289ec-53dd-4eb6-a871-e68a01b0382e",
     "prev": "8706111e-cb93-4dd4-af8e-1ee864e03843",
     "regions": {
      "c91b5410-4f22-44a7-bcdb-ffa2665a6281": {
       "attrs": {
        "height": 0.8,
        "width": 0.8,
        "x": 0.1,
        "y": 0.1
       },
       "content": {
        "cell": "0633983e-5c02-4c3f-93b1-6364d6ac70bb",
        "part": "whole"
       },
       "id": "c91b5410-4f22-44a7-bcdb-ffa2665a6281"
      }
     }
    },
    "a4b721a8-b010-4f30-9221-d8f1d8b4f217": {
     "id": "a4b721a8-b010-4f30-9221-d8f1d8b4f217",
     "prev": "174c5ccc-4d66-4124-84d3-070225646de8",
     "regions": {
      "89824e83-c460-4758-b1b3-72f648be31f1": {
       "attrs": {
        "height": 0.8,
        "width": 0.8,
        "x": 0.1,
        "y": 0.1
       },
       "content": {
        "cell": "8d5a0d7a-370d-4d19-b3f6-45729191abad",
        "part": "whole"
       },
       "id": "89824e83-c460-4758-b1b3-72f648be31f1"
      }
     }
    },
    "ab21e053-06f8-4fb9-bc2d-428b3b52ef90": {
     "id": "ab21e053-06f8-4fb9-bc2d-428b3b52ef90",
     "prev": "79dd2d2e-1f6c-49e0-a242-3927fe43c477",
     "regions": {
      "170ca6cf-be6c-4865-87b1-84849de9b611": {
       "attrs": {
        "height": 0.8,
        "width": 0.8,
        "x": 0.1,
        "y": 0.1
       },
       "content": {
        "cell": "6ec2515e-6d37-46ee-bd44-50441af770d5",
        "part": "whole"
       },
       "id": "170ca6cf-be6c-4865-87b1-84849de9b611"
      }
     }
    },
    "ab942ca1-b7a9-416d-aab9-2b1547640d7c": {
     "id": "ab942ca1-b7a9-416d-aab9-2b1547640d7c",
     "prev": "021586d8-5c0a-48fc-bb31-e455f7c97a65",
     "regions": {
      "20fca51d-8e18-4acf-a196-6b55a51ea33d": {
       "attrs": {
        "height": 0.8,
        "width": 0.8,
        "x": 0.1,
        "y": 0.1
       },
       "content": {
        "cell": "05d1ebfe-0183-4e67-ab67-066e574a58e4",
        "part": "whole"
       },
       "id": "20fca51d-8e18-4acf-a196-6b55a51ea33d"
      }
     }
    },
    "b0ecd56e-9b8c-4dc4-bc40-60e8743bfca4": {
     "id": "b0ecd56e-9b8c-4dc4-bc40-60e8743bfca4",
     "prev": "8fe216a1-dc21-417c-848d-a47bd09c7685",
     "regions": {
      "acc82120-4889-4943-b74e-5f2367d99fd4": {
       "attrs": {
        "height": 0.8,
        "width": 0.8,
        "x": 0.1,
        "y": 0.1
       },
       "content": {
        "cell": "9c162f33-ff72-4883-bcac-f8374571b5d5",
        "part": "whole"
       },
       "id": "acc82120-4889-4943-b74e-5f2367d99fd4"
      }
     }
    },
    "b289ab29-fb99-4724-8a0b-aa8a6a228b91": {
     "id": "b289ab29-fb99-4724-8a0b-aa8a6a228b91",
     "prev": "ab21e053-06f8-4fb9-bc2d-428b3b52ef90",
     "regions": {
      "d517d386-fd86-4d0f-839e-627c1d9150cc": {
       "attrs": {
        "height": 0.8,
        "width": 0.8,
        "x": 0.1,
        "y": 0.1
       },
       "content": {
        "cell": "1bd7f934-48c9-4cf2-9073-e3fb3ac59bbf",
        "part": "whole"
       },
       "id": "d517d386-fd86-4d0f-839e-627c1d9150cc"
      }
     }
    },
    "b5ad9d8b-d481-47d6-a015-517cb2a41f60": {
     "id": "b5ad9d8b-d481-47d6-a015-517cb2a41f60",
     "prev": "a4b721a8-b010-4f30-9221-d8f1d8b4f217",
     "regions": {
      "b003812e-635b-4142-88ff-56fd063b2c66": {
       "attrs": {
        "height": 0.8,
        "width": 0.8,
        "x": 0.1,
        "y": 0.1
       },
       "content": {
        "cell": "3d178f95-07d4-44f5-a378-f0c1b454096a",
        "part": "whole"
       },
       "id": "b003812e-635b-4142-88ff-56fd063b2c66"
      }
     }
    },
    "b96b156d-4b25-4e7d-b8cf-d5ff02ea8027": {
     "id": "b96b156d-4b25-4e7d-b8cf-d5ff02ea8027",
     "prev": "9f7289ec-53dd-4eb6-a871-e68a01b0382e",
     "regions": {
      "5d0e8982-99bd-484e-b169-947c2329cd99": {
       "attrs": {
        "height": 0.8,
        "width": 0.8,
        "x": 0.1,
        "y": 0.1
       },
       "content": {
        "cell": "00fb7bb6-7f22-4be1-940f-d3e63baae739",
        "part": "whole"
       },
       "id": "5d0e8982-99bd-484e-b169-947c2329cd99"
      }
     }
    },
    "bfd43dfb-4c49-4b3d-8e40-31c2ac7311bc": {
     "id": "bfd43dfb-4c49-4b3d-8e40-31c2ac7311bc",
     "prev": "96e4ba94-0e58-4a65-8571-e1e4cdbc2f2d",
     "regions": {
      "b7d7e175-2f24-4d71-bbc2-25c61a6d9aaf": {
       "attrs": {
        "height": 0.8,
        "width": 0.8,
        "x": 0.1,
        "y": 0.1
       },
       "content": {
        "cell": "7b000239-2032-4db8-a8d2-b733644335c4",
        "part": "whole"
       },
       "id": "b7d7e175-2f24-4d71-bbc2-25c61a6d9aaf"
      }
     }
    },
    "cc57a7bd-6d61-468d-ac35-5a248e02955c": {
     "id": "cc57a7bd-6d61-468d-ac35-5a248e02955c",
     "prev": "db508d96-e756-4403-a644-6ff5d484a850",
     "regions": {
      "2f4a37a7-3a36-44ef-86dc-bf3ba03ac68b": {
       "attrs": {
        "height": 0.8,
        "width": 0.8,
        "x": 0.1,
        "y": 0.1
       },
       "content": {
        "cell": "8596c6a3-ac65-4d64-8499-73dc2e05544f",
        "part": "whole"
       },
       "id": "2f4a37a7-3a36-44ef-86dc-bf3ba03ac68b"
      }
     }
    },
    "ceae78a6-d720-48b3-a03b-b51ac65ab659": {
     "id": "ceae78a6-d720-48b3-a03b-b51ac65ab659",
     "prev": "0e385929-2279-42f6-b2f8-c5af5019d506",
     "regions": {
      "81d04629-3a9a-4840-a583-50140214d1f8": {
       "attrs": {
        "height": 0.8,
        "width": 0.8,
        "x": 0.1,
        "y": 0.1
       },
       "content": {
        "cell": "cc195184-9b04-4b17-bd36-c66df30f0439",
        "part": "whole"
       },
       "id": "81d04629-3a9a-4840-a583-50140214d1f8"
      }
     }
    },
    "d08cf8ba-4dbf-4ba6-ab53-fed388438d6c": {
     "id": "d08cf8ba-4dbf-4ba6-ab53-fed388438d6c",
     "prev": null,
     "regions": {
      "b68e06ea-2c93-46ba-9284-36873c29da27": {
       "attrs": {
        "height": 0.8,
        "width": 0.8,
        "x": 0.1,
        "y": 0.1
       },
       "content": {
        "cell": "05418130-f772-4465-9c1f-175808c4e2ee",
        "part": "whole"
       },
       "id": "b68e06ea-2c93-46ba-9284-36873c29da27"
      }
     }
    },
    "d17d51e5-5df7-4fb3-b30f-1249d6ff086b": {
     "id": "d17d51e5-5df7-4fb3-b30f-1249d6ff086b",
     "prev": "eeccc063-7bf2-4050-b444-70e66274ae6f",
     "regions": {
      "9ee8874c-b313-4fab-83af-10aff60f08cb": {
       "attrs": {
        "height": 0.8,
        "width": 0.8,
        "x": 0.1,
        "y": 0.1
       },
       "content": {
        "cell": "373116e4-be71-44e3-b0d0-bf2abffab0f8",
        "part": "whole"
       },
       "id": "9ee8874c-b313-4fab-83af-10aff60f08cb"
      }
     }
    },
    "d3e89579-7c96-45fa-9965-163cc619f0f0": {
     "id": "d3e89579-7c96-45fa-9965-163cc619f0f0",
     "prev": "d08cf8ba-4dbf-4ba6-ab53-fed388438d6c",
     "regions": {
      "8d601713-773b-434f-bce3-e002af477c6a": {
       "attrs": {
        "height": 0.8,
        "width": 0.8,
        "x": 0.1,
        "y": 0.1
       },
       "content": {
        "cell": "3e57cebd-ed4f-4583-a4d1-215a4b5bb98f",
        "part": "whole"
       },
       "id": "8d601713-773b-434f-bce3-e002af477c6a"
      }
     }
    },
    "da2a2e65-62d9-4aec-909e-1a074d3d6261": {
     "id": "da2a2e65-62d9-4aec-909e-1a074d3d6261",
     "prev": "fe4b5b4b-6f5c-462d-bfa0-739e8f8ea289",
     "regions": {
      "4510c7d4-5a2a-43d6-a347-c50ada28371c": {
       "attrs": {
        "height": 0.8,
        "width": 0.8,
        "x": 0.1,
        "y": 0.1
       },
       "content": {
        "cell": "17fba5e6-ef78-4cb0-a1f2-9981441e49c0",
        "part": "whole"
       },
       "id": "4510c7d4-5a2a-43d6-a347-c50ada28371c"
      }
     }
    },
    "db191e6e-1278-49a3-bd82-1640e24647a6": {
     "id": "db191e6e-1278-49a3-bd82-1640e24647a6",
     "prev": "9128d876-224d-49f5-ad7a-fd2642ece7c1",
     "regions": {
      "18430fbf-ad4c-44cb-9506-107084c09031": {
       "attrs": {
        "height": 0.8,
        "width": 0.8,
        "x": 0.1,
        "y": 0.1
       },
       "content": {
        "cell": "601afcde-92c0-4b75-89b6-40ac9d35c386",
        "part": "whole"
       },
       "id": "18430fbf-ad4c-44cb-9506-107084c09031"
      }
     }
    },
    "db508d96-e756-4403-a644-6ff5d484a850": {
     "id": "db508d96-e756-4403-a644-6ff5d484a850",
     "prev": "0f62a8ee-928b-4280-a680-766e47d4e6af",
     "regions": {
      "be692ca2-fc50-4564-b577-8047ad56f44a": {
       "attrs": {
        "height": 0.8,
        "width": 0.8,
        "x": 0.1,
        "y": 0.1
       },
       "content": {
        "cell": "a2c14f53-3905-4f33-863e-083a0755aa34",
        "part": "whole"
       },
       "id": "be692ca2-fc50-4564-b577-8047ad56f44a"
      }
     }
    },
    "e1dce511-3c2f-43e4-81a5-9e08ababc24a": {
     "id": "e1dce511-3c2f-43e4-81a5-9e08ababc24a",
     "prev": "2ad30be4-9551-431f-a7ae-a9b25367454f",
     "regions": {
      "8dd6be74-a5c3-46d0-939e-77616409197a": {
       "attrs": {
        "height": 0.8,
        "width": 0.8,
        "x": 0.1,
        "y": 0.1
       },
       "content": {
        "cell": "69ff4323-a267-4d79-9ab3-40c54e6812f2",
        "part": "whole"
       },
       "id": "8dd6be74-a5c3-46d0-939e-77616409197a"
      }
     }
    },
    "ee6589f8-8f49-4632-b957-d3019561fd37": {
     "id": "ee6589f8-8f49-4632-b957-d3019561fd37",
     "prev": "fbab8ff5-d627-465d-9ac3-289b6436443e",
     "regions": {
      "79a9bfe6-5f80-4aa9-bbe4-608caf1fcd0c": {
       "attrs": {
        "height": 0.8,
        "width": 0.8,
        "x": 0.1,
        "y": 0.1
       },
       "content": {
        "cell": "a9b8eea3-c6b6-4557-ba09-63fa90fec687",
        "part": "whole"
       },
       "id": "79a9bfe6-5f80-4aa9-bbe4-608caf1fcd0c"
      }
     }
    },
    "eeccc063-7bf2-4050-b444-70e66274ae6f": {
     "id": "eeccc063-7bf2-4050-b444-70e66274ae6f",
     "prev": "f160e99c-a1dc-459d-9363-73d2600c7d70",
     "regions": {
      "a635561b-1c7e-48c7-b7a8-14d34530654d": {
       "attrs": {
        "height": 0.8,
        "width": 0.8,
        "x": 0.1,
        "y": 0.1
       },
       "content": {
        "cell": "c3e177f3-31bc-4cd1-9d47-0273f5ab3969",
        "part": "whole"
       },
       "id": "a635561b-1c7e-48c7-b7a8-14d34530654d"
      }
     }
    },
    "f160e99c-a1dc-459d-9363-73d2600c7d70": {
     "id": "f160e99c-a1dc-459d-9363-73d2600c7d70",
     "prev": "54fc52ca-d352-469c-a77a-18d27fefa9bb",
     "regions": {
      "24a00dd3-0224-4564-a412-f9f68e14d2dc": {
       "attrs": {
        "height": 0.8,
        "width": 0.8,
        "x": 0.1,
        "y": 0.1
       },
       "content": {
        "cell": "f78d9f4c-ae01-4eef-ac0d-9cf019a20dc5",
        "part": "whole"
       },
       "id": "24a00dd3-0224-4564-a412-f9f68e14d2dc"
      }
     }
    },
    "fa8d4080-f35b-414b-b143-a2d56eb6d5db": {
     "id": "fa8d4080-f35b-414b-b143-a2d56eb6d5db",
     "prev": "55a0c858-b078-48a5-b057-f2a5d0bcfa37",
     "regions": {
      "b22df378-3767-47c5-8385-79e6af7a13e8": {
       "attrs": {
        "height": 0.8,
        "width": 0.8,
        "x": 0.1,
        "y": 0.1
       },
       "content": {
        "cell": "54af231d-3756-4631-a6a7-1b21cf0afef1",
        "part": "whole"
       },
       "id": "b22df378-3767-47c5-8385-79e6af7a13e8"
      }
     }
    },
    "fbab8ff5-d627-465d-9ac3-289b6436443e": {
     "id": "fbab8ff5-d627-465d-9ac3-289b6436443e",
     "prev": "b289ab29-fb99-4724-8a0b-aa8a6a228b91",
     "regions": {
      "39b93b44-b28d-4db9-9b7d-401e2a305ee8": {
       "attrs": {
        "height": 0.8,
        "width": 0.8,
        "x": 0.1,
        "y": 0.1
       },
       "content": {
        "cell": "98de114a-9e24-43de-8631-70b9be085b10",
        "part": "whole"
       },
       "id": "39b93b44-b28d-4db9-9b7d-401e2a305ee8"
      }
     }
    },
    "fe4b5b4b-6f5c-462d-bfa0-739e8f8ea289": {
     "id": "fe4b5b4b-6f5c-462d-bfa0-739e8f8ea289",
     "prev": "27eb6ce1-3bce-4360-923d-945a602786b5",
     "regions": {
      "b51d63ed-f721-42e3-8356-4ce4012afb76": {
       "attrs": {
        "height": 0.8,
        "width": 0.8,
        "x": 0.1,
        "y": 0.1
       },
       "content": {
        "cell": "bfd6c1b4-2e5e-454e-994e-c5d1313a49c6",
        "part": "whole"
       },
       "id": "b51d63ed-f721-42e3-8356-4ce4012afb76"
      }
     }
    },
    "ffb6a40a-a071-4fe0-a532-cb2167eb56a9": {
     "id": "ffb6a40a-a071-4fe0-a532-cb2167eb56a9",
     "prev": "0bdb5971-c766-4e8e-be72-187b8bb3333d",
     "regions": {
      "95b0d298-6907-43b6-b980-8b3bf9205b73": {
       "attrs": {
        "height": 0.8,
        "width": 0.8,
        "x": 0.1,
        "y": 0.1
       },
       "content": {
        "cell": "30b2bf87-cdde-4f7d-a46e-bddb07abaa5b",
        "part": "whole"
       },
       "id": "95b0d298-6907-43b6-b980-8b3bf9205b73"
      }
     }
    }
   },
   "themes": {
    "default": "21ba807f-2298-42ac-a72c-9bc1f0e52e53",
    "theme": {
     "21ba807f-2298-42ac-a72c-9bc1f0e52e53": {
      "backgrounds": {
       "backgroundColor": {
        "background-color": "backgroundColor",
        "id": "backgroundColor"
       }
      },
      "id": "21ba807f-2298-42ac-a72c-9bc1f0e52e53",
      "palette": {
       "backgroundColor": {
        "id": "backgroundColor",
        "rgb": [
         43,
         43,
         43
        ]
       },
       "headingColor": {
        "id": "headingColor",
        "rgb": [
         238,
         238,
         238
        ]
       },
       "linkColor": {
        "id": "linkColor",
        "rgb": [
         19,
         218,
         236
        ]
       },
       "mainColor": {
        "id": "mainColor",
        "rgb": [
         238,
         238,
         238
        ]
       }
      },
      "rules": {
       "a": {
        "color": "linkColor"
       },
       "h1": {
        "color": "headingColor",
        "font-family": "Oswald",
        "font-size": 7
       },
       "h2": {
        "color": "headingColor",
        "font-family": "Oswald",
        "font-size": 5
       },
       "h3": {
        "color": "headingColor",
        "font-family": "Oswald",
        "font-size": 3.75
       },
       "h4": {
        "color": "headingColor",
        "font-family": "Oswald",
        "font-size": 3
       },
       "h5": {
        "color": "headingColor",
        "font-family": "Oswald"
       },
       "h6": {
        "color": "headingColor",
        "font-family": "Oswald"
       },
       "h7": {
        "color": "headingColor",
        "font-family": "Oswald"
       },
       "li": {
        "color": "mainColor",
        "font-family": "Lato",
        "font-size": 5
       },
       "p": {
        "color": "mainColor",
        "font-family": "Lato",
        "font-size": 5
       }
      },
      "text-base": {
       "color": "mainColor",
       "font-family": "Lato",
       "font-size": 5
      }
     }
    }
   }
  }
 },
 "nbformat": 4,
 "nbformat_minor": 1
}
