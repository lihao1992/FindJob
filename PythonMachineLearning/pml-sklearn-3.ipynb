{
 "cells": [
  {
   "cell_type": "code",
   "execution_count": 2,
   "metadata": {
    "collapsed": false,
    "nbpresent": {
     "id": "194d6dce-df2e-4f5a-a627-180c887bfc32"
    }
   },
   "outputs": [],
   "source": [
    "import numpy as np\n",
    "from sklearn import datasets\n",
    "\n",
    "iris = datasets.load_iris()\n",
    "X = iris.data[:,[2,3]]\n",
    "y = iris.target\n",
    "#np.unique(y)"
   ]
  },
  {
   "cell_type": "code",
   "execution_count": 4,
   "metadata": {
    "collapsed": false,
    "nbpresent": {
     "id": "7c5bb1a2-53aa-4eba-9ba2-30083143807c"
    }
   },
   "outputs": [],
   "source": [
    "from sklearn.cross_validation import train_test_split\n",
    "X_train,X_test,y_train,y_test = train_test_split(X,y,test_size=0.3,random_state=0)\n",
    "\n",
    "from sklearn.preprocessing import StandardScaler\n",
    "sc = StandardScaler()\n",
    "sc.fit(X_train)\n",
    "X_train_std = sc.transform(X_train)\n",
    "X_test_std = sc.transform(X_test)"
   ]
  },
  {
   "cell_type": "markdown",
   "metadata": {
    "nbpresent": {
     "id": "80f02895-09fb-42d3-8986-647923f0aa96"
    }
   },
   "source": []
  },
  {
   "cell_type": "code",
   "execution_count": 30,
   "metadata": {
    "collapsed": false
   },
   "outputs": [
    {
     "name": "stdout",
     "output_type": "stream",
     "text": [
      "Misclassfied samples: 0.98\n"
     ]
    }
   ],
   "source": [
    "from sklearn.linear_model import Perceptron\n",
    "from sklearn.metrics import accuracy_score\n",
    "\n",
    "ppn = Perceptron(n_iter=60,eta0=0.05,random_state=0)\n",
    "ppn.fit(X_train_std,y_train)\n",
    "\n",
    "y_pred = ppn.predict(X_test_std)\n",
    "\n",
    "print('Misclassfied samples: %.2f' % accuracy_score(y_test,y_pred))"
   ]
  },
  {
   "cell_type": "code",
   "execution_count": null,
   "metadata": {
    "collapsed": false
   },
   "outputs": [],
   "source": [
    "from  matplotlib.colors import ListedColormap\n",
    "import matplotlib.pyplot as plt\n",
    "\n",
    "def plot_decision_regions(X,y,classfier,test_idx=None,resolution=0.02):\n",
    "    \n",
    "    marker = ('s','x','o','^','v')\n",
    "    colors = ('red','blue','lightgreen','gray','cyan')\n",
    "    cmap = ListedColormap(colors[:len(np.unique(y))]) #how many colors needed\n",
    "    \n",
    "    \n",
    "    # plot the decision region\n",
    "    \n",
    "    x1_min,x1_max = X[:,0].min() -1,X[:,0].max()+1\n",
    "    x2_min,x2_max = X[:,1].min() -1,X[:,0].max()+1\n",
    "    \n",
    "    xx1,xx2 = np.meshgrid(np.arange(x1_min,x1_max,resolution),\n",
    "                         np.arange(x2_min,x2_max,resolution))\n",
    "    Z = classfier.predict(np.arange([xx1.ravel(),xx2.ravel()]).T)\n",
    "\n",
    "    "
   ]
  }
 ],
 "metadata": {
  "anaconda-cloud": {},
  "kernelspec": {
   "display_name": "Python [conda root]",
   "language": "python",
   "name": "conda-root-py"
  },
  "language_info": {
   "codemirror_mode": {
    "name": "ipython",
    "version": 3
   },
   "file_extension": ".py",
   "mimetype": "text/x-python",
   "name": "python",
   "nbconvert_exporter": "python",
   "pygments_lexer": "ipython3",
   "version": "3.5.2"
  },
  "nbpresent": {
   "slides": {
    "00396d04-db11-491c-8be7-05e8f7d51d25": {
     "id": "00396d04-db11-491c-8be7-05e8f7d51d25",
     "prev": "747587c7-bd98-4bf1-b571-6e1085ac49a7",
     "regions": {
      "60dc6578-d85d-487d-a398-abbc9e46692d": {
       "attrs": {
        "height": 0.8,
        "width": 0.8,
        "x": 0.1,
        "y": 0.1
       },
       "content": {
        "cell": "80f02895-09fb-42d3-8986-647923f0aa96",
        "part": "whole"
       },
       "id": "60dc6578-d85d-487d-a398-abbc9e46692d"
      }
     }
    },
    "0ce81029-f22a-4246-b872-8ad85432c992": {
     "id": "0ce81029-f22a-4246-b872-8ad85432c992",
     "prev": null,
     "regions": {
      "18c161ff-32e5-45ec-80d4-6db8833cf125": {
       "attrs": {
        "height": 0.8,
        "width": 0.8,
        "x": 0.1,
        "y": 0.1
       },
       "content": {
        "cell": "7c5bb1a2-53aa-4eba-9ba2-30083143807c",
        "part": "source"
       },
       "id": "18c161ff-32e5-45ec-80d4-6db8833cf125"
      }
     }
    },
    "747587c7-bd98-4bf1-b571-6e1085ac49a7": {
     "id": "747587c7-bd98-4bf1-b571-6e1085ac49a7",
     "prev": "0ce81029-f22a-4246-b872-8ad85432c992",
     "regions": {
      "9234b073-a586-4e79-b7eb-b522e5f4031f": {
       "attrs": {
        "height": 0.8,
        "width": 0.8,
        "x": 0.1,
        "y": 0.1
       },
       "content": {
        "cell": "194d6dce-df2e-4f5a-a627-180c887bfc32",
        "part": "source"
       },
       "id": "9234b073-a586-4e79-b7eb-b522e5f4031f"
      }
     }
    }
   },
   "themes": {}
  }
 },
 "nbformat": 4,
 "nbformat_minor": 1
}
