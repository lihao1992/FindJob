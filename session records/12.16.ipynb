{
 "cells": [
  {
   "cell_type": "markdown",
   "metadata": {},
   "source": [
    "# 12月16日session"
   ]
  },
  {
   "cell_type": "markdown",
   "metadata": {},
   "source": [
    "第一次session，明确了session的主题，并讨论了一些工作。"
   ]
  },
  {
   "cell_type": "markdown",
   "metadata": {},
   "source": [
    "黄斌讲解了自己做过的一些机器学习问题，主要介绍了三方面内容：\n",
    "\n",
    "1、基于SVM的垃圾短信屏蔽系统：重点讨论了如何设计特征，如何测试不同的参数对模型的影响。\n",
    "\n",
    "2、调参技巧：明确了训练集、验证集和测试集的意义，并且结合实际案例，讲解了如何根据上述集合，确认模型发生了过拟合，如何避免过拟合。\n",
    "\n",
    "3、一种基于坐标变换的旋转矩阵推导方法。"
   ]
  },
  {
   "cell_type": "markdown",
   "metadata": {},
   "source": [
    "张远讲解了：\n",
    "\n",
    "1、多个最小二乘问题求和的求解方式，以及介绍了intel MKL这个包，还有在实际编程中，如何写出高效程序的一些trick：1、sparse matrix；2、分块赋值；3、Python中range和xrange的区别。\n",
    "\n",
    "2、三角函数公式的一种有趣的推导方式。\n",
    "\n",
    "3、HoG算子和SVM的关系，以及SVM中正则因子带来的影响，和对应的处理方式。"
   ]
  },
  {
   "cell_type": "markdown",
   "metadata": {},
   "source": [
    "闾泽军讲解了：\n",
    "\n",
    "1、Github的建立、合并等操作。\n",
    "\n",
    "2、介绍Anaconda + jupyter的应用。"
   ]
  },
  {
   "cell_type": "markdown",
   "metadata": {},
   "source": [
    "在讲解过程中，遇到了几个问题，希望下周可以得到解决：\n",
    "\n",
    "1、回顾SVM，还有SVM中的高级话题：kernel trick和正则化因子\n",
    "\n",
    "2、稀疏矩阵的定义和使用\n",
    "\n",
    "3、cmake的使用技巧以及相应的编程知识\n",
    "\n",
    "4、PCA和SVD的关系，以及PCA所引出的子空间学习\n",
    "\n",
    "5、微积分复习"
   ]
  }
 ],
 "metadata": {
  "anaconda-cloud": {},
  "kernelspec": {
   "display_name": "Python [Root]",
   "language": "python",
   "name": "Python [Root]"
  },
  "language_info": {
   "codemirror_mode": {
    "name": "ipython",
    "version": 2
   },
   "file_extension": ".py",
   "mimetype": "text/x-python",
   "name": "python",
   "nbconvert_exporter": "python",
   "pygments_lexer": "ipython2",
   "version": "2.7.12"
  }
 },
 "nbformat": 4,
 "nbformat_minor": 0
}
